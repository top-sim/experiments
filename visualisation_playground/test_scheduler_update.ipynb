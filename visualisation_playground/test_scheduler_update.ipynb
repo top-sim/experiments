{
 "cells": [
  {
   "cell_type": "code",
   "execution_count": 26,
   "metadata": {},
   "outputs": [],
   "source": [
    "import os\n",
    "os.chdir('/home/rwb/github/thesis_experiments')\n",
    "import os\n",
    "import sys\n",
    "import logging\n",
    "import time\n",
    "import simpy\n",
    "\n",
    "import pandas as pd\n",
    "\n",
    "sys.path.insert(0, os.path.abspath('../../thesis_experiments'))\n",
    "sys.path.insert(0, os.path.abspath('../../topsim_pipelines'))\n",
    "\n",
    "global_sim = pd.read_pickle('hopefully_final_scheduling_update.pkl')"
   ]
  },
  {
   "cell_type": "code",
   "execution_count": 91,
   "metadata": {
    "scrolled": true
   },
   "outputs": [
    {
     "data": {
      "text/html": [
       "<div>\n",
       "<style scoped>\n",
       "    .dataframe tbody tr th:only-of-type {\n",
       "        vertical-align: middle;\n",
       "    }\n",
       "\n",
       "    .dataframe tbody tr th {\n",
       "        vertical-align: top;\n",
       "    }\n",
       "\n",
       "    .dataframe thead th {\n",
       "        text-align: right;\n",
       "    }\n",
       "</style>\n",
       "<table border=\"1\" class=\"dataframe\">\n",
       "  <thead>\n",
       "    <tr style=\"text-align: right;\">\n",
       "      <th></th>\n",
       "      <th>planning</th>\n",
       "      <th>delay</th>\n",
       "      <th>config</th>\n",
       "      <th>time</th>\n",
       "    </tr>\n",
       "  </thead>\n",
       "  <tbody>\n",
       "    <tr>\n",
       "      <th>0</th>\n",
       "      <td>fcfs</td>\n",
       "      <td>0</td>\n",
       "      <td>10.0</td>\n",
       "      <td>874.0</td>\n",
       "    </tr>\n",
       "    <tr>\n",
       "      <th>1</th>\n",
       "      <td>fcfs</td>\n",
       "      <td>0</td>\n",
       "      <td>20.0</td>\n",
       "      <td>975.0</td>\n",
       "    </tr>\n",
       "    <tr>\n",
       "      <th>2</th>\n",
       "      <td>fcfs</td>\n",
       "      <td>0</td>\n",
       "      <td>40.0</td>\n",
       "      <td>1720.0</td>\n",
       "    </tr>\n",
       "    <tr>\n",
       "      <th>3</th>\n",
       "      <td>fcfs</td>\n",
       "      <td>0</td>\n",
       "      <td>60.0</td>\n",
       "      <td>2330.0</td>\n",
       "    </tr>\n",
       "    <tr>\n",
       "      <th>4</th>\n",
       "      <td>fcfs</td>\n",
       "      <td>0</td>\n",
       "      <td>80.0</td>\n",
       "      <td>2967.0</td>\n",
       "    </tr>\n",
       "    <tr>\n",
       "      <th>5</th>\n",
       "      <td>heft</td>\n",
       "      <td>0</td>\n",
       "      <td>10.0</td>\n",
       "      <td>874.0</td>\n",
       "    </tr>\n",
       "    <tr>\n",
       "      <th>6</th>\n",
       "      <td>heft</td>\n",
       "      <td>0</td>\n",
       "      <td>20.0</td>\n",
       "      <td>953.0</td>\n",
       "    </tr>\n",
       "    <tr>\n",
       "      <th>7</th>\n",
       "      <td>heft</td>\n",
       "      <td>0</td>\n",
       "      <td>40.0</td>\n",
       "      <td>1563.0</td>\n",
       "    </tr>\n",
       "    <tr>\n",
       "      <th>8</th>\n",
       "      <td>heft</td>\n",
       "      <td>0</td>\n",
       "      <td>60.0</td>\n",
       "      <td>2199.0</td>\n",
       "    </tr>\n",
       "    <tr>\n",
       "      <th>9</th>\n",
       "      <td>heft</td>\n",
       "      <td>0</td>\n",
       "      <td>80.0</td>\n",
       "      <td>2829.0</td>\n",
       "    </tr>\n",
       "  </tbody>\n",
       "</table>\n",
       "</div>"
      ],
      "text/plain": [
       "  planning  delay  config    time\n",
       "0     fcfs      0    10.0   874.0\n",
       "1     fcfs      0    20.0   975.0\n",
       "2     fcfs      0    40.0  1720.0\n",
       "3     fcfs      0    60.0  2330.0\n",
       "4     fcfs      0    80.0  2967.0\n",
       "5     heft      0    10.0   874.0\n",
       "6     heft      0    20.0   953.0\n",
       "7     heft      0    40.0  1563.0\n",
       "8     heft      0    60.0  2199.0\n",
       "9     heft      0    80.0  2829.0"
      ]
     },
     "execution_count": 91,
     "metadata": {},
     "output_type": "execute_result"
    }
   ],
   "source": [
    "df = global_sim.groupby(['planning','delay', 'config']).size().astype(float).reset_index(name='time').sort_values(by=['planning'])\n",
    "df['config'] = df['config'].str.replace('visualisation_playground/sim_config/single_size/40cluster/mos_sw','').str.strip('.json').astype(float)\n",
    "config = 'visualisation_playground/sim_config/single_size/40cluster/mos_sw40.json'\n",
    "# global_sim[(global_sim['config']==config) & (global_sim['planning']=='heft')]['finished_tasks']\n",
    "# global_sim[(global_sim['config']==config) & (global_sim['planning']=='fcfs')]['finished_tasks']\n",
    "basetime = pd.Series(df[df['planning'] == 'fcfs']['time'])\n",
    "basetime = basetime.append(basetime,ignore_index=True)\n",
    "df"
   ]
  },
  {
   "cell_type": "code",
   "execution_count": 82,
   "metadata": {},
   "outputs": [
    {
     "data": {
      "text/plain": [
       "<matplotlib.axes._subplots.AxesSubplot at 0x7fea95ce6da0>"
      ]
     },
     "execution_count": 82,
     "metadata": {},
     "output_type": "execute_result"
    },
    {
     "data": {
      "image/png": "[encoded data removed]",
      "text/plain": [
       "<Figure size 1296x576 with 1 Axes>"
      ]
     },
     "metadata": {
      "needs_background": "light"
     },
     "output_type": "display_data"
    }
   ],
   "source": [
    "import matplotlib.pyplot as plt\n",
    "import seaborn as sns\n",
    "# g = sns.FacetGrid(df, col='delay',height=8, aspect=0.5)\n",
    "plt.figure(figsize=(18,8))\n",
    "\n",
    "sns.barplot(data=df,x='config', y='ratio', hue='planning')"
   ]
  },
  {
   "cell_type": "code",
   "execution_count": 128,
   "metadata": {
    "scrolled": false
   },
   "outputs": [
    {
     "data": {
      "text/plain": [
       "<matplotlib.axes._subplots.AxesSubplot at 0x7fea8d68d630>"
      ]
     },
     "execution_count": 128,
     "metadata": {},
     "output_type": "execute_result"
    },
    {
     "data": {
      "image/png": "[encoded data removed]",
      "text/plain": [
       "<Figure size 432x288 with 1 Axes>"
      ]
     },
     "metadata": {
      "needs_background": "light"
     },
     "output_type": "display_data"
    }
   ],
   "source": [
    "# plot=global_sim[global_sim['config']==config]\n",
    "# # plot\n",
    "# plt.figure(figsize=(18,8))\n",
    "# sns.lineplot(data=plot,x=plot.index, y='available_resources',hue='planning')\n",
    "df = global_sim.groupby(['planning','delay', 'config']).size().astype(float).reset_index(name='time').sort_values(by=['planning'])\n",
    "df = global_sim.groupby(['planning','delay', 'config'])['available_resources'].mean().astype(float).reset_index(name='mean_resources').sort_values(by=['planning'])\n",
    "df['config'] = df['config'].str.replace('visualisation_playground/sim_config/single_size/40cluster/mos_sw','').str.strip('.json').astype(float)\n",
    "sns.lineplot(data=df,x='config', y='mean_resources',hue='planning')\n",
    "# df"
   ]
  }
 ],
 "metadata": {
  "kernelspec": {
   "display_name": "Python 3",
   "language": "python",
   "name": "python3"
  },
  "language_info": {
   "codemirror_mode": {
    "name": "ipython",
    "version": 3
   },
   "file_extension": ".py",
   "mimetype": "text/x-python",
   "name": "python",
   "nbconvert_exporter": "python",
   "pygments_lexer": "ipython3",
   "version": "3.7.3"
  }
 },
 "nbformat": 4,
 "nbformat_minor": 2
}
