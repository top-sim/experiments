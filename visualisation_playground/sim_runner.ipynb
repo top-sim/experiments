{
 "cells": [
  {
   "cell_type": "markdown",
   "metadata": {},
   "source": [
    "# Simulation Runner\n",
    "\n",
    "Run example simulation in a loop "
   ]
  },
  {
   "cell_type": "code",
   "execution_count": 1,
   "metadata": {},
   "outputs": [],
   "source": [
    "import os\n",
    "os.chdir('../')\n",
    "import sys\n",
    "import logging\n",
    "import time\n",
    "from datetime import date\n",
    "import simpy\n",
    "\n",
    "import pandas as pd\n",
    "\n",
    "sys.path.insert(0, os.path.abspath('../../thesis_experiments'))\n",
    "sys.path.insert(0, os.path.abspath('../../topsim_pipelines'))\n",
    "sys.path.insert(0, os.path.abspath('../../shadow'))\n",
    "\n",
    "# Framework defined models\n",
    "from topsim.core.simulation import Simulation\n",
    "from topsim.core.delay import DelayModel\n",
    "\n",
    "# User defined models \n",
    "from user.telescope import Telescope # Instrument\n",
    "from user.schedule.dynamic_plan import DynamicAlgorithmFromPlan # Scheduling\n",
    "from user.schedule.greedy import GreedyAlgorithmFromPlan # Scheduling\n",
    "from user.schedule.batch_allocation import BatchProcessing\n",
    "from user.plan.batch_planning import BatchPlanning # Planning\n",
    "from user.plan.static_planning import SHADOWPlanning \n",
    "\n",
    "\n",
    "logging.basicConfig(level=\"INFO\")\n",
    "logger = logging.getLogger()\n",
    "\n",
    "STATIC_PLANNING_ALGORITHMS = ['heft', 'fcfs']\n",
    "\n",
    "GLOBAL_SIM = pd.DataFrame()\n",
    "GLOBAL_TASKS = pd.DataFrame()\n",
    "\n",
    "DATE = str(date.today())"
   ]
  },
  {
   "cell_type": "code",
   "execution_count": 2,
   "metadata": {},
   "outputs": [
    {
     "name": "stderr",
     "output_type": "stream",
     "text": [
      "INFO:user.telescope:telescope is now using 36 arrays\n",
      "INFO:user.telescope:Telescope is now using 0 arrays\n",
      "INFO:user.telescope:telescope is now using 18 arrays\n",
      "INFO:user.telescope:Telescope is now using 0 arrays\n",
      "INFO:user.telescope:telescope is now using 18 arrays\n",
      "INFO:user.schedule.batch_allocation:Provisioning 17 resources to emu1\n",
      "INFO:user.telescope:Telescope is now using 0 arrays\n",
      "INFO:user.telescope:telescope is now using 36 arrays\n",
      "INFO:user.schedule.batch_allocation:Provisioning 17 resources to emu2\n",
      "INFO:user.schedule.batch_allocation:Provisioning 16 resources to dingo\n",
      "INFO:user.telescope:Telescope is now using 0 arrays\n",
      "INFO:user.schedule.batch_allocation:Provisioning 17 resources to wallaby\n",
      "INFO:topsim.core.scheduler:emu1 Removed from Queue @2487\n",
      "INFO:topsim.core.scheduler:emu2 Removed from Queue @2714\n",
      "INFO:topsim.core.scheduler:dingo Removed from Queue @2770\n",
      "INFO:topsim.core.scheduler:wallaby Removed from Queue @2813\n",
      "INFO:topsim.core.simulation:Simulation Finished @ 2815.0\n"
     ]
    }
   ],
   "source": [
    "cfg = '2021_isc-hpc/config/single_size/40cluster/mos_sw10.json'\n",
    "env = simpy.Environment()\n",
    "timestamp = f'{time.time()}'.split('.')[0]\n",
    "simulation = Simulation(\n",
    "    env=env,\n",
    "    config=cfg,\n",
    "    instrument=Telescope,\n",
    "    planning_algorithm='batch',\n",
    "    planning_model=BatchPlanning('batch'),\n",
    "    scheduling=BatchProcessing,\n",
    "    delay=None,\n",
    "    timestamp={timestamp}\n",
    ")\n",
    "sim, tasks = simulation.start()\n"
   ]
  },
  {
   "cell_type": "code",
   "execution_count": 14,
   "metadata": {},
   "outputs": [
    {
     "data": {
      "text/plain": [
       "<bound method BatchProcessing._provision_resources of BatchProcessing>"
      ]
     },
     "execution_count": 14,
     "metadata": {},
     "output_type": "execute_result"
    }
   ],
   "source": [
    "simulation.scheduler.algorithm._provision_resources"
   ]
  },
  {
   "cell_type": "code",
   "execution_count": null,
   "metadata": {},
   "outputs": [],
   "source": [
    "# RUNNING SIMULATION AND GENERATING DATA\n",
    "\n",
    "for algorithm in algorithms:\n",
    "    for config in sorted(os.listdir(\n",
    "            '2021_isc-hpc/config/single_size/40cluster')):\n",
    "        if '.json' in config:\n",
    "            CONFIG = f'2021_isc-hpc/config/single_size/40cluster/{config}'\n",
    "            env = simpy.Environment()\n",
    "            instrument = Telescope\n",
    "            timestamp = f'{time.time()}'.split('.')[0]\n",
    "            simulation = Simulation(\n",
    "                env=env,\n",
    "                config=CONFIG,\n",
    "                instrument=instrument,\n",
    "                planning=algorithm,\n",
    "                scheduling=GreedyAlgorithmFromPlan,\n",
    "                delay=None,\n",
    "                timestamp={timestamp}\n",
    "            )\n",
    "            sim, tasks = simulation.start()\n",
    "            global_sim = global_sim.append(sim)\n",
    "            global_tasks = global_tasks.append(tasks)\n",
    "            print(algorithm, config, len(sim))\n",
    "global_sim.to_pickle(f'{date}_global_sim_{}.pkl')\n",
    "global_tasks.to_pickle(f'{date}_global_tasks_{}.pkl')"
   ]
  }
 ],
 "metadata": {
  "kernelspec": {
   "display_name": "Python 3",
   "language": "python",
   "name": "python3"
  },
  "language_info": {
   "codemirror_mode": {
    "name": "ipython",
    "version": 3
   },
   "file_extension": ".py",
   "mimetype": "text/x-python",
   "name": "python",
   "nbconvert_exporter": "python",
   "pygments_lexer": "ipython3",
   "version": "3.7.3"
  }
 },
 "nbformat": 4,
 "nbformat_minor": 4
}
