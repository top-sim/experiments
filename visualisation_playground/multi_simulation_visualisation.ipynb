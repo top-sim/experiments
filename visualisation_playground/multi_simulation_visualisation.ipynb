{
 "cells": [
  {
   "cell_type": "code",
   "execution_count": 2,
   "metadata": {},
   "outputs": [],
   "source": [
    "import os\n",
    "import sys\n",
    "import logging\n",
    "import time\n",
    "import simpy\n",
    "\n",
    "sys.path.insert(0, os.path.abspath('../../thesis_experiments'))\n",
    "sys.path.insert(0, os.path.abspath('../../topsim_pipelines'))\n",
    "\n",
    "from topsim.core.simulation import Simulation\n",
    "from topsim.core.delay import DelayModel\n",
    "from user.telescope import Telescope\n",
    "from user.scheduling import GreedyAlgorithmFromPlan\n",
    "\n",
    "logging.basicConfig(level=\"INFO\")\n",
    "LOGGER = logging.getLogger(__name__)"
   ]
  },
  {
   "cell_type": "code",
   "execution_count": 4,
   "metadata": {},
   "outputs": [],
   "source": [
    "os.chdir('/home/rwb/github/thesis_experiments')\n",
    "os.mkdir('visualisation_playground/jupyter_results')"
   ]
  },
  {
   "cell_type": "code",
   "execution_count": null,
   "metadata": {},
   "outputs": [],
   "source": [
    "for config in sorted(os.listdir('visualisation_playground/sim_config')):\n",
    "    if '.json' in config:\n",
    "        CONFIG = f'visualisation_playground/sim_config/{config}'\n",
    "\n",
    "        env = simpy.Environment()\n",
    "        dm = DelayModel(0.20, 'normal', DelayModel.DelayDegree.HIGH)\n",
    "\n",
    "        instrument = Telescope\n",
    "        timestamp = f'{time.time()}'.split('.')[0]\n",
    "        cfg = CONFIG.split('/')[-1]\n",
    "        simulation = Simulation(\n",
    "            env=env,\n",
    "            config=CONFIG,\n",
    "            instrument=instrument,\n",
    "            algorithm_map={'heft': 'heft', 'fifo': GreedyAlgorithmFromPlan},\n",
    "            delay=dm,\n",
    "            timestamp=f'visualisation_playground/jupyter_results/{cfg}-{timestamp}'\n",
    "        )\n",
    "\n",
    "        # LOGGER.info(\"Simulation Starting\")\n",
    "        simulation.start(-1)"
   ]
  }
 ],
 "metadata": {
  "kernelspec": {
   "display_name": "Python 3",
   "language": "python",
   "name": "python3"
  },
  "language_info": {
   "codemirror_mode": {
    "name": "ipython",
    "version": 3
   },
   "file_extension": ".py",
   "mimetype": "text/x-python",
   "name": "python",
   "nbconvert_exporter": "python",
   "pygments_lexer": "ipython3",
   "version": "3.7.3"
  }
 },
 "nbformat": 4,
 "nbformat_minor": 2
}
