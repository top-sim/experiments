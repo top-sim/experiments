{
 "cells": [
  {
   "cell_type": "code",
   "execution_count": 3,
   "id": "2854d428-cc2b-4562-9a9f-292bc1c743c6",
   "metadata": {},
   "outputs": [],
   "source": [
    "import h5py\n",
    "import pandas as pd\n"
   ]
  },
  {
   "cell_type": "code",
   "execution_count": 4,
   "id": "a86241d4-1636-4f47-ad1f-2251036bbba3",
   "metadata": {},
   "outputs": [
    {
     "name": "stdout",
     "output_type": "stream",
     "text": [
      "[['', 'Mon240520100342', 'skaworkflows_2024-m-19_15-55-56', 'sim'], ['', 'Mon240520100342', 'skaworkflows_2024-m-19_15-55-56', 'summary'], ['', 'Mon240520100342', 'skaworkflows_2024-m-19_15-55-56', 'tasks'], ['', 'Mon240520100342', 'skaworkflows_2024-m-19_15-55-47', 'sim'], ['', 'Mon240520100342', 'skaworkflows_2024-m-19_15-55-47', 'summary'], ['', 'Mon240520100342', 'skaworkflows_2024-m-19_15-55-47', 'tasks'], ['', 'Mon240520100342', 'skaworkflows_2024-m-19_15-55-28', 'sim'], ['', 'Mon240520100342', 'skaworkflows_2024-m-19_15-55-28', 'summary'], ['', 'Mon240520100342', 'skaworkflows_2024-m-19_15-55-28', 'tasks'], ['', 'Mon240520100342', 'skaworkflows_2024-m-19_15-55-19', 'sim'], ['', 'Mon240520100342', 'skaworkflows_2024-m-19_15-55-19', 'summary'], ['', 'Mon240520100342', 'skaworkflows_2024-m-19_15-55-19', 'tasks'], ['', 'Mon240520100342', 'skaworkflows_2024-05-19_20-56-10', 'sim'], ['', 'Mon240520100342', 'skaworkflows_2024-05-19_20-56-10', 'summary'], ['', 'Mon240520100342', 'skaworkflows_2024-05-19_20-56-10', 'tasks'], ['', 'Mon240520100342', 'skaworkflows_2024-05-19_20-54-42', 'sim'], ['', 'Mon240520100342', 'skaworkflows_2024-05-19_20-54-42', 'summary'], ['', 'Mon240520100342', 'skaworkflows_2024-05-19_20-54-42', 'tasks'], ['', 'Mon240520100342', 'skaworkflows_2024-05-19_20-54-32', 'sim'], ['', 'Mon240520100342', 'skaworkflows_2024-05-19_20-54-32', 'summary'], ['', 'Mon240520100342', 'skaworkflows_2024-05-19_20-54-32', 'tasks'], ['', 'Mon240520100342', 'skaworkflows_2024-05-19_20-54-10', 'sim'], ['', 'Mon240520100342', 'skaworkflows_2024-05-19_20-54-10', 'summary'], ['', 'Mon240520100342', 'skaworkflows_2024-05-19_20-54-10', 'tasks'], ['', 'Mon240520100342', 'skaworkflows_2024-05-19_20-54-01', 'sim'], ['', 'Mon240520100342', 'skaworkflows_2024-05-19_20-54-01', 'summary'], ['', 'Mon240520100342', 'skaworkflows_2024-05-19_20-54-01', 'tasks'], ['', 'Mon240520100342', 'skaworkflows_2024-05-19_17-01-07', 'sim'], ['', 'Mon240520100342', 'skaworkflows_2024-05-19_17-01-07', 'summary'], ['', 'Mon240520100342', 'skaworkflows_2024-05-19_17-01-07', 'tasks'], ['', 'Mon240520100342', 'skaworkflows_2024-05-19_17-00-58', 'sim'], ['', 'Mon240520100342', 'skaworkflows_2024-05-19_17-00-58', 'summary'], ['', 'Mon240520100342', 'skaworkflows_2024-05-19_17-00-58', 'tasks'], ['', 'Mon240520100342', 'skaworkflows_2024-05-19_17-00-39', 'sim'], ['', 'Mon240520100342', 'skaworkflows_2024-05-19_17-00-39', 'summary'], ['', 'Mon240520100342', 'skaworkflows_2024-05-19_17-00-39', 'tasks'], ['', 'Mon240520100342', 'skaworkflows_2024-05-19_17-00-31', 'sim'], ['', 'Mon240520100342', 'skaworkflows_2024-05-19_17-00-31', 'summary'], ['', 'Mon240520100342', 'skaworkflows_2024-05-19_17-00-31', 'tasks'], ['', 'Mon240520100341', 'skaworkflows_2024-05-20_10-00-57', 'sim'], ['', 'Mon240520100341', 'skaworkflows_2024-05-20_10-00-57', 'summary'], ['', 'Mon240520100341', 'skaworkflows_2024-05-20_10-00-57', 'tasks']]\n"
     ]
    }
   ],
   "source": [
    "resfile = 'results_f2024-05-20.h5'\n",
    "store = pd.HDFStore(resfile)\n",
    "keysplit = []\n",
    "for k in store.keys():\n",
    "    keysplit.append(k.split('/'))\n",
    "store.close()\n",
    "print(keysplit)\n",
    "dataset_types = ['sim', 'summary', 'tasks']\n",
    "simulations = { f\"{e[1]}/{e[2]}\":{d:None for d in dataset_types} for e in keysplit  }\n",
    "for simulation, dtype in simulations.items():\n",
    "     for dst in dataset_types:\n",
    "         simulations[simulation][dst] = pd.read_hdf(resfile,key=f\"{simulation}/{dst}\")\n",
    "# for simulation, dtype in simulations.items():\n",
    "#     print(simulations[simulation]['summary'])\n"
   ]
  },
  {
   "cell_type": "code",
   "execution_count": null,
   "id": "d1f30abf-dab6-4e02-83f9-feb6b832070a",
   "metadata": {},
   "outputs": [],
   "source": []
  },
  {
   "cell_type": "code",
   "execution_count": 9,
   "id": "54103b6a-938e-4d02-91dc-4c732f0c51f6",
   "metadata": {},
   "outputs": [
    {
     "data": {
      "text/plain": [
       "<Axes: xlabel='coarse_channels', ylabel='demand'>"
      ]
     },
     "execution_count": 9,
     "metadata": {},
     "output_type": "execute_result"
    },
    {
     "data": {
      "image/png": "[encoded data removed]",
      "text/plain": [
       "<Figure size 640x480 with 1 Axes>"
      ]
     },
     "metadata": {},
     "output_type": "display_data"
    }
   ],
   "source": [
    "import matplotlib.pyplot as plt \n",
    "import json \n",
    "df = None\n",
    "\n",
    "df_total = pd.DataFrame()\n",
    "\n",
    "for simulation, dtype in simulations.items():\n",
    "    df = simulations[simulation]['summary']\n",
    "    \n",
    "    # print(df[(df['event']=='finished') | (df['event']=='started')]) # & df['actor']=='telescope'])\n",
    "    # print(df[(df['event']=='stopped') & (df['actor']=='scheduler')]) # & df['actor']=='telescope']\n",
    "\n",
    "    df_tel = (df[(df['actor']=='instrument')])\n",
    "    \n",
    "    obs_durations = []\n",
    "    for obs in set(df_tel['observation']):\n",
    "        df_obs = df_tel[df_tel['observation'] == obs]\n",
    "        obs_durations.append(df_obs[df_obs['event']=='finished']['time'].iloc[0] \n",
    "            - df_obs[df_obs['event'] =='started']['time'].iloc[0])\n",
    "\n",
    "    df_sim = simulations[simulation]['sim']\n",
    "    # print(df_sim['available_resources'].iloc[0])\n",
    "    cfg_path = df_sim['config'].iloc[0]\n",
    "    # BASE_DIR = Path(\"examples/playground/config\")\n",
    "    # for cfg_path in os.listdir(BASE_DIR):\n",
    "    #     if (BASE_DIR / cfg_path).is_dir():\n",
    "    #         continue\n",
    "    with open( cfg_path) as fp:\n",
    "        cfg = json.load(fp)\n",
    "    pipelines = cfg[\"instrument\"][\"telescope\"][\"pipelines\"]\n",
    "    nodes = len(cfg[\"cluster\"][\"system\"][\"resources\"])\n",
    "    observations = pipelines.keys()\n",
    "    parameters = (\n",
    "        pd.DataFrame.from_dict(pipelines, orient=\"index\")\n",
    "        .reset_index()\n",
    "        .rename(columns={\"index\": \"observation\"})\n",
    "    )\n",
    "    parameters[\"nodes\"] = nodes\n",
    "    # parameters[\"dir\"] = BASE_DIR\n",
    "    \n",
    "    # So long as the second last workflow is put on the scheduler \n",
    "    # before the sum of the total observations is complete, we should be fine. \n",
    "    # This means that the only thing that needs computing after the final observation\n",
    "    # is the workflow associated with that observation, which means we aren't \n",
    "    # 'in the red' as far as the shedule is concerned. \n",
    "    \n",
    "    # print(sum(obs_durations))\n",
    "    print\n",
    "    \n",
    "    df_sched=df[(df['actor']=='scheduler')] # get the last \"started\" time of a workflow on the scheduler\n",
    "    # print((sum(obs_durations) - sorted(df_sched[df_sched['event']=='stopped']['time'])[-2]) / (sum(obs_durations)))\n",
    "    # print(sorted(df_tel['time'])[-1])\n",
    "    # print\n",
    "    success=True\n",
    "    if (sum(obs_durations) - sorted(df_sched[df_sched['event']=='stopped']['time'])[-2]) < 0:\n",
    "        success = False\n",
    "        # print(\"Failed\")\n",
    "    # else:\n",
    "    #     print(\"Success\")\n",
    "\n",
    "    parameters['success'] = success\n",
    "    parameters['success_ratio'] = (sum(obs_durations) - sorted(df_sched[df_sched['event']=='stopped']['time'])[-2])/sum(obs_durations)\n",
    "\n",
    "    # print(parameters[['channels', 'coarse_channels', 'demand', 'success_ratio']])\n",
    "\n",
    "    df_total=pd.concat([df_total, parameters],ignore_index=True)\n",
    "\n",
    "# df, sum(obs_durations), sorted(df_sched[df_sched['event']=='stopped']['time'])[-2]\n",
    "\n",
    "import seaborn as sns\n",
    "\n",
    "f, ax = plt.subplots()\n",
    "# dataset = df_total.pivot(index='demand', columns='channels', values='success_ratio')\n",
    "# sns.catplot(x='demand', y='coarse_channels', hue='success', data=df_total, col='nodes') # ,ax=ax)\n",
    "# g = sns.stripplot(data=df_total, x='coarse_channels', y='demand', hue='success', ax=ax, dodge=True)\n",
    "sns.histplot(df_total, x='coarse_channels', y='demand', hue='success', legend=False)\n",
    "\n",
    "# print(df_total[['channels', 'coarse_channels', 'demand', 'success_ratio']])\n",
    "# sns.\n",
    "\n",
    "# df_total"
   ]
  },
  {
   "cell_type": "code",
   "execution_count": null,
   "id": "b11f5d8b-0381-4837-9c48-3d897b1a675a",
   "metadata": {},
   "outputs": [],
   "source": [
    "def get_observation_duration(df):\n",
    "    df_tel = (df[(df['actor']=='instrument')])\n",
    "\n",
    "    for obs in set(df_tel['observation']):\n",
    "        df_obs = df_tel[df_tel['observation'] == obs]\n",
    "        print(df_obs[df_obs['event']=='finished']['time'].iloc[0] \n",
    "            - df_obs[df_obs['event'] =='started']['time'].iloc[0])\n"
   ]
  },
  {
   "cell_type": "code",
   "execution_count": 9,
   "id": "09e7563f-4314-4500-ad14-cd5e60c6e088",
   "metadata": {},
   "outputs": [],
   "source": [
    "def get_config_parameters(config):\n",
    "    pass"
   ]
  },
  {
   "cell_type": "code",
   "execution_count": null,
   "id": "7a98e15e-efd0-4836-afa9-f862dc2cec46",
   "metadata": {},
   "outputs": [],
   "source": [
    "def get_dataset_types(dataset_type):\n",
    "    ds = {}\n",
    "    In [47]: for simulation, dtype in simulations.items():\n",
    "        ds[simulation] = simulations[simulation][dataset_type]"
   ]
  },
  {
   "cell_type": "code",
   "execution_count": 156,
   "id": "01ee8600-7a54-4665-956b-82afacfe2c78",
   "metadata": {},
   "outputs": [
    {
     "name": "stdout",
     "output_type": "stream",
     "text": [
      "256\n",
      "/home/rwb/Dropbox/University/PhD/experiment_data/chapter4/playground/low/prototype/skaworkflows_2024-m-19_15-55-47.json\n",
      "256\n",
      "/home/rwb/Dropbox/University/PhD/experiment_data/chapter4/playground/low/prototype/skaworkflows_2024-m-19_15-55-28.json\n",
      "256\n",
      "/home/rwb/Dropbox/University/PhD/experiment_data/chapter4/playground/low/prototype/skaworkflows_2024-m-19_15-55-19.json\n",
      "512\n",
      "/home/rwb/Dropbox/University/PhD/experiment_data/chapter4/playground/low/prototype/skaworkflows_2024-05-19_20-56-10.json\n",
      "512\n",
      "/home/rwb/Dropbox/University/PhD/experiment_data/chapter4/playground/low/prototype/skaworkflows_2024-05-19_20-54-42.json\n",
      "512\n",
      "/home/rwb/Dropbox/University/PhD/experiment_data/chapter4/playground/low/prototype/skaworkflows_2024-05-19_20-54-32.json\n",
      "512\n",
      "/home/rwb/Dropbox/University/PhD/experiment_data/chapter4/playground/low/prototype/skaworkflows_2024-05-19_20-54-10.json\n",
      "512\n",
      "/home/rwb/Dropbox/University/PhD/experiment_data/chapter4/playground/low/prototype/skaworkflows_2024-05-19_20-54-01.json\n",
      "128\n",
      "/home/rwb/Dropbox/University/PhD/experiment_data/chapter4/playground/low/prototype/skaworkflows_2024-05-19_17-01-07.json\n",
      "128\n",
      "/home/rwb/Dropbox/University/PhD/experiment_data/chapter4/playground/low/prototype/skaworkflows_2024-05-19_17-00-58.json\n",
      "128\n",
      "/home/rwb/Dropbox/University/PhD/experiment_data/chapter4/playground/low/prototype/skaworkflows_2024-05-19_17-00-39.json\n",
      "128\n",
      "/home/rwb/Dropbox/University/PhD/experiment_data/chapter4/playground/low/prototype/skaworkflows_2024-05-19_17-00-31.json\n",
      "256\n",
      "/home/rwb/Dropbox/University/PhD/experiment_data/chapter4/playground/low/prototype/skaworkflows_2024-m-19_15-55-56.json\n"
     ]
    }
   ],
   "source": [
    "for simulation, dtype in simulations.items():\n",
    "    df_sim = simulations[simulation]['sim']\n",
    "    print(df_sim['available_resources'].iloc[0])\n",
    "    df_tasks = simulations[simulation]['tasks']\n",
    "    df_sim['config'].iloc[0]"
   ]
  }
 ],
 "metadata": {
  "kernelspec": {
   "display_name": "Python 3 (ipykernel)",
   "language": "python",
   "name": "python3"
  },
  "language_info": {
   "codemirror_mode": {
    "name": "ipython",
    "version": 3
   },
   "file_extension": ".py",
   "mimetype": "text/x-python",
   "name": "python",
   "nbconvert_exporter": "python",
   "pygments_lexer": "ipython3",
   "version": "3.10.12"
  }
 },
 "nbformat": 4,
 "nbformat_minor": 5
}
