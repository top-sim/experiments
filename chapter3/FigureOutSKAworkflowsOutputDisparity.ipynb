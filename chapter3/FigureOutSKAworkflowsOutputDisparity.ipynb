{
 "cells": [
  {
   "cell_type": "code",
   "execution_count": 12,
   "id": "595600d1",
   "metadata": {},
   "outputs": [],
   "source": [
    "import json\n",
    "import networkx as nx\n",
    "from pathlib import Path"
   ]
  },
  {
   "cell_type": "code",
   "execution_count": 9,
   "id": "6e437b43",
   "metadata": {},
   "outputs": [],
   "source": [
    "mid =  Path(\"/home/rwb/Dropbox/University/PhD/experiment_data/chapter3/initial_results/mid/prototype/workflows\")"
   ]
  },
  {
   "cell_type": "code",
   "execution_count": 10,
   "id": "6bc11e95",
   "metadata": {},
   "outputs": [],
   "source": [
    "mid_hpso22 = mid / \"hpso22_time-28800_channels-786_tel-197_no_data-standard.json\""
   ]
  },
  {
   "cell_type": "code",
   "execution_count": 13,
   "id": "2209824b",
   "metadata": {},
   "outputs": [],
   "source": [
    "with mid_hpso22.open(\"r\") as infile:\n",
    "    wfconfig = json.load(infile)\n",
    "\n",
    "graph = nx.readwrite.json_graph.node_link_graph(wfconfig['graph'])"
   ]
  },
  {
   "cell_type": "code",
   "execution_count": 17,
   "id": "ce8c897f",
   "metadata": {},
   "outputs": [
    {
     "data": {
      "text/plain": [
       "20718.32854758836"
      ]
     },
     "execution_count": 17,
     "metadata": {},
     "output_type": "execute_result"
    }
   ],
   "source": [
    "total = 0\n",
    "for n in graph.nodes: \n",
    "    total += graph.nodes[n]['comp']\n",
    "total / (9623000000000000)"
   ]
  }
 ],
 "metadata": {
  "kernelspec": {
   "display_name": "Python 3 (ipykernel)",
   "language": "python",
   "name": "python3"
  },
  "language_info": {
   "codemirror_mode": {
    "name": "ipython",
    "version": 3
   },
   "file_extension": ".py",
   "mimetype": "text/x-python",
   "name": "python",
   "nbconvert_exporter": "python",
   "pygments_lexer": "ipython3",
   "version": "3.8.10"
  }
 },
 "nbformat": 4,
 "nbformat_minor": 5
}
