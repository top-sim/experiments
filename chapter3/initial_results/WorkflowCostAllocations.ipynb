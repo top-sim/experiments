{
 "cells": [
  {
   "cell_type": "code",
   "execution_count": 1,
   "id": "45de56ef-cf23-4f4c-bb07-5f568389eb5b",
   "metadata": {},
   "outputs": [
    {
     "name": "stdout",
     "output_type": "stream",
     "text": [
      "/home/rwb/Dropbox/University/PhD/experiment_data/chapter3/initial_results/mid/prototype\n"
     ]
    }
   ],
   "source": [
    "import sys\n",
    "sys.path.append('/home/rwb/github/skaworkflows')\n",
    "\n",
    "import logging\n",
    "import json\n",
    "\n",
    "from pathlib import Path\n",
    "import seaborn as sns\n",
    "\n",
    "logging.basicConfig(level='INFO')\n",
    "LOGGER = logging.getLogger(__name__)\n",
    "%pwd \n",
    "%cd /home/rwb/Dropbox/University/PhD/experiment_data/chapter3/initial_results/mid/prototype"
   ]
  },
  {
   "cell_type": "code",
   "execution_count": null,
   "id": "d567aa5b",
   "metadata": {},
   "outputs": [],
   "source": []
  },
  {
   "cell_type": "code",
   "execution_count": 2,
   "id": "d2595e25-02b2-42e8-98b6-758604fdab64",
   "metadata": {
    "scrolled": true,
    "tags": []
   },
   "outputs": [
    {
     "name": "stdout",
     "output_type": "stream",
     "text": [
      "7.502 14.100652035\n"
     ]
    }
   ],
   "source": [
    "system_config_path = Path('no_data_mid_sdp_config_prototype_n786_786channels.json')\n",
    "\n",
    "with open(system_config_path) as fp: \n",
    "    system_config = json.load(fp)\n",
    "\n",
    "flops,compute_bandwidth,memory = system_config['cluster']['system']['resources']['GenericSDP_m0'].values()\n",
    "print(flops/10**12, compute_bandwidth/10**9)\n"
   ]
  },
  {
   "cell_type": "code",
   "execution_count": 4,
   "id": "be921750-5c28-4c2c-9e26-8d1230232e99",
   "metadata": {
    "tags": []
   },
   "outputs": [],
   "source": [
    "# Setup multipler for a given observation\n",
    "obs_time = 18000\n",
    "compute_unit = 10**15 # Peta flop\n",
    "data_unit = 10**6 # per million visibilites \n",
    "bytes_per_vis = 12 "
   ]
  },
  {
   "cell_type": "code",
   "execution_count": 79,
   "id": "6f15a072-d63d-4db6-bd0a-5812dbe7c3c1",
   "metadata": {},
   "outputs": [],
   "source": [
    "# Isolate a single unit of computing \n",
    "\n",
    "import pandas as pd\n",
    "workflows = ['ICAL'] # , 'DPrepA','DPrepB','DPrepC','DPrepD']\n",
    "low_hpsos = ['hpso13'] #, 'hpso15', 'hpso32']\n",
    "\n",
    "\n",
    "# structure the data according to | product | workflow | time | type (long-form data) rather than wide form\n",
    "\n",
    "df = pd.DataFrame()\n",
    "\n",
    "for wf in workflows: \n",
    "    for hpso in low_hpsos:\n",
    "        hpso_df = pd.DataFrame()\n",
    "        workflow_data_path = Path(\n",
    "            f\"workflows/workflow_stats/{hpso}_time-28800_channels-786_tel-197_no_data-standard.json_data\"\n",
    "        )\n",
    "        with open(workflow_data_path) as fp: \n",
    "            workflow_data = json.load(fp)\n",
    "\n",
    "        for product in workflow_data:\n",
    "            columns = {'HPSO': hpso, 'Product': product, 'Workflow': wf, 'Time (s)': [], 'Type': []}\n",
    "            curr_product_dict = workflow_data[product]\n",
    "            if 'total_compute' in workflow_data[product]:\n",
    "                compute = curr_product_dict['fraction_compute_cost']  * obs_time * compute_unit\n",
    "                columns['Time (s)'].append(compute / flops)\n",
    "                columns['Type'].append('compute')\n",
    "                data = curr_product_dict['fraction_data_cost'] * obs_time * data_unit * bytes_per_vis\n",
    "                columns['Time (s)'].append(data / compute_bandwidth)\n",
    "                columns['Type'].append('data')\n",
    "            tmp_df = pd.DataFrame(columns,)\n",
    "            hpso_df = hpso_df.append(tmp_df, ignore_index=True)\n",
    "        df = df.append(hpso_df, ignore_index=True)"
   ]
  },
  {
   "cell_type": "code",
   "execution_count": 10,
   "id": "6b1c9e9b",
   "metadata": {},
   "outputs": [
    {
     "data": {
      "text/plain": [
       "{'Correct',\n",
       " 'Degrid',\n",
       " 'FFT',\n",
       " 'Flag',\n",
       " 'Grid',\n",
       " 'IFFT',\n",
       " 'Identify Component',\n",
       " 'Predict',\n",
       " 'Solve',\n",
       " 'Source Find',\n",
       " 'Subtract',\n",
       " 'Subtract Image Component',\n",
       " 'UpdateLSM'}"
      ]
     },
     "execution_count": 10,
     "metadata": {},
     "output_type": "execute_result"
    }
   ],
   "source": [
    "# df[df[\"HPSO\"] == 'hpso02b']\n",
    "df = df.loc[(df!=0).all(1)]\n",
    "products = set(df[\"Product\"])\n",
    "products"
   ]
  },
  {
   "cell_type": "code",
   "execution_count": 80,
   "id": "d65a2bb3",
   "metadata": {},
   "outputs": [
    {
     "name": "stderr",
     "output_type": "stream",
     "text": [
      "/home/rwb/github/topsim/venv/lib/python3.8/site-packages/pandas/core/indexing.py:1667: SettingWithCopyWarning: \n",
      "A value is trying to be set on a copy of a slice from a DataFrame.\n",
      "Try using .loc[row_indexer,col_indexer] = value instead\n",
      "\n",
      "See the caveats in the documentation: https://pandas.pydata.org/pandas-docs/stable/user_guide/indexing.html#returning-a-view-versus-a-copy\n",
      "  self.obj[key] = value\n"
     ]
    }
   ],
   "source": [
    "\n",
    "grouped = df.groupby([\"HPSO\", \"Product\"])\n",
    "\n",
    "# for name, group in grouped:\n",
    "# #     print(name)\n",
    "# #     print(group)\n",
    "    \n",
    "# df_grouped_ex = grouped.get_group((\"hpso01\", \"Correct\"))\n",
    "# mask = df_grouped_ex['HPSO']== df_grouped_ex['HPSO']\n",
    "# mid_group = df_grouped_ex.groupby([\"Type\"])\n",
    "\n",
    "# mid_group.get_group(\"data\")\n",
    "# for name, group in mid_group:\n",
    "#     print(name)\n",
    "#     print(group)\n",
    "\n",
    "# min_time = min(\n",
    "#     grouped.get_group((\"hpso01\", \"Correct\", \"compute\")).min()['Time (s)'],\n",
    "#     grouped.get_group((\"hpso01\", \"Correct\", \"data\")).min()['Time (s)']\n",
    "# )\n",
    "# max_time = \n",
    "# df_grouped_ex.loc[:, \"rank\"] = df_grouped_ex.max()[\"Time (s)\"] - df_grouped_ex.min()[\"Time (s)\"]\n",
    "# df_grouped_ex\n",
    "\n",
    "hpso_dataframes = {}\n",
    "for h in low_hpsos:\n",
    "    df_hpso = df[df[\"HPSO\"] == h]\n",
    "    grouped = df_hpso.groupby(\"Product\")\n",
    "    grouped_df = []\n",
    "    \n",
    "    for p in products:\n",
    "        if p not in grouped.groups.keys():\n",
    "            continue\n",
    "        df_grouped_ex = grouped.get_group(p)\n",
    "        tmp_group = df_grouped_ex.groupby([\"Type\"])\n",
    "        min_time = min(\n",
    "            tmp_group.get_group(\"data\").min()[\"Time (s)\"],\n",
    "            tmp_group.get_group(\"compute\").min()[\"Time (s)\"] \n",
    "        )\n",
    "        max_time = max(\n",
    "            tmp_group.get_group(\"data\").max()[\"Time (s)\"],\n",
    "            tmp_group.get_group(\"compute\").max()[\"Time (s)\"] \n",
    "        )\n",
    "        df_grouped_ex.loc[:, \"rank\"] = max_time-min_time\n",
    "        grouped_df.append(df_grouped_ex)\n",
    "    if grouped_df:\n",
    "        hpso_dataframes[h] = pd.concat(grouped_df, ignore_index=True)\n",
    "\n",
    "hpso_dataframes['hpso13'] = hpso_dataframes['hpso13'].sort_values(by=['rank','Product'], ascending=False)\n"
   ]
  },
  {
   "cell_type": "code",
   "execution_count": 81,
   "id": "30eb9a6b",
   "metadata": {},
   "outputs": [
    {
     "name": "stderr",
     "output_type": "stream",
     "text": [
      "/tmp/ipykernel_54786/2327265640.py:12: RuntimeWarning: invalid value encountered in true_divide\n",
      "  df_comp.loc[:, \"ratio\"] = ((np.array(df_data['Time (s)']) / np.array(df_comp['Time (s)'])))\n"
     ]
    }
   ],
   "source": [
    "import numpy as np\n",
    "import matplotlib.pyplot as plt\n",
    "from matplotlib.colors import CenteredNorm, LogNorm, TwoSlopeNorm, Normalize\n",
    "from matplotlib import cm\n",
    "df_comp = df[df['Type']== 'compute'].reset_index(drop=True)\n",
    "df_data = df[df['Type']== 'data'].reset_index(drop=True)\n",
    "df_comp['Workflow'] = df_comp['Workflow'].str.replace('ICAL','DICAL')\n",
    "df_data['Workflow'] = df_data['Workflow'].str.replace('ICAL','DICAL')\n",
    "\n",
    "# df_data = df_data.sort_values(by=['Workflow','Product'], ascending=[True,False])\n",
    "# df_comp = df_comp.sort_values(by=['Workflow','Product'], ascending=[True,False])\n",
    "df_comp.loc[:, \"ratio\"] = ((np.array(df_data['Time (s)']) / np.array(df_comp['Time (s)'])))\n",
    "\n",
    "%pwd\n",
    "\n",
    "plt.ioff()\n",
    "# df_comp.loc[:, \"size\"] = [( c/1 if c/1 > 1 else 1/c) for c in df_comp['ratio']]\n",
    "f, ax = plt.subplots(figsize=(8,5),dpi=300)\n",
    "\n",
    "# sizes = (df_comp['Time (s)'] - np.mean(df_comp['Time (s)']))/np.std(x)    \n",
    "colorpalette = 'coolwarm'\n",
    "# norm = LogNorm(vmin=0.001, vmax=1000)\n",
    "# midnorm = MidpointNormalize(0, vmax=df_comp['ratio'].max(),vcenter=50)\n",
    "\n",
    "x = df_comp['Workflow']\n",
    "y = df_comp['Product']\n",
    "y2 = np.array(df_comp['ratio'])\n",
    "# norm = TwoSlopeNorm( vcenter=1, vmin=df_comp['ratio'].min(), vmax=200) # , vmin=df_comp['ratio'].min(), vmax=df_comp['ratio'].max())\n",
    "# res = ax.scatter(x,y , c=df_comp['ratio'], cmap=colorpalette, norm=norm, s=1000)\n",
    "\n",
    "rest = ax.scatter(y2, y)\n",
    "ax.set_ylabel(\"Algorithm\", fontsize=16)\n",
    "ax.set_xlabel(\"Ratio (I/O-intensive > 1)\", fontsize=16)\n",
    "ax.yaxis.set_label_coords(-0.15,0.5 )\n",
    "ax.xaxis.set_label_coords(0.5,-0.1)\n",
    "ax.spines['left'].set_position(('data', 1))\n",
    "ax.spines['right'].set_visible(False)\n",
    "ax.set_xscale('log')\n",
    "# cb = f.colorbar(res)\n",
    "\n",
    "# cb.ax.set_ylabel('Ratio (I/O : FLOPs)', rotation=270)\n",
    "# cb.ax.yaxis.set_label_coords(4,0.5)\n",
    "ax.set_title(\"Runtime comparison of SKA Workflow algorithms as a ratio of I/O to FLOPs: HPSO13 Observation\", pad=25)\n",
    "# plt.show()\n",
    "plt.savefig(\"RuntimeComparisons_13.png\", facecolor=\"white\", transparent=False, bbox_inches=\"tight\")\n",
    "# df_comp, df_data\n",
    "# 66 \tHPSO01 \tCorrect \tDPrepD \t436.435911 \tcompute \t450.602210 \t3.703428e"
   ]
  },
  {
   "cell_type": "code",
   "execution_count": null,
   "id": "7810aaf8",
   "metadata": {
    "scrolled": true
   },
   "outputs": [],
   "source": [
    "plt.style.use('_mpl-gallery')\n",
    "\n",
    "# make data\n",
    "np.random.seed(1)\n",
    "x = 4 + np.random.normal(0, 1.5, 200)\n",
    "\n",
    "# plot:\n",
    "fig, ax = plt.subplots()\n",
    "\n",
    "ax.hist(x, bins=8, linewidth=0.5, edgecolor=\"white\")\n",
    "\n",
    "ax.set(xlim=(0, 8), xticks=np.arange(1, 8),\n",
    "       ylim=(0, 56), yticks=np.linspace(0, 56, 9))\n",
    "\n",
    "plt.show()\n"
   ]
  },
  {
   "cell_type": "code",
   "execution_count": null,
   "id": "0308862b",
   "metadata": {},
   "outputs": [],
   "source": [
    "df_hpso01 = hpso_dataframes['hpso02a']\n",
    "df_compute = df_hpso01[df_hpso01['Type'] == 'compute']\n",
    "df_data = df_hpso01[df_hpso01['Type'] == 'data']\n",
    "\n",
    "fix, ax = plt.subplots(figsize=(8,8))\n",
    "\n",
    "bins = np.arange(0, 2000, 50)\n",
    "\n",
    "ax.hist(df_compute['Time (s)'], bins, histtype='bar')\n",
    "\n",
    "df_compute['Time (s)']\n",
    "df_data['Time (s)']\n",
    "\n",
    "df_max = pd.DataFrame({'compute': np.array(df_compute['Time (s)']), 'data': np.array(df_data['Time (s)'])}).max(axis=1)\n",
    "\n",
    "# sorted(df_compute['Time (s)'])\n",
    "ax.hist(df_max, bins, histtype='bar')\n",
    "a =ax.set_xticks(ticks=bins,minor=True)\n",
    "\n",
    "df_max"
   ]
  }
 ],
 "metadata": {
  "kernelspec": {
   "display_name": "Python 3 (ipykernel)",
   "language": "python",
   "name": "python3"
  },
  "language_info": {
   "codemirror_mode": {
    "name": "ipython",
    "version": 3
   },
   "file_extension": ".py",
   "mimetype": "text/x-python",
   "name": "python",
   "nbconvert_exporter": "python",
   "pygments_lexer": "ipython3",
   "version": "3.8.10"
  },
  "pycharm": {
   "stem_cell": {
    "cell_type": "raw",
    "metadata": {
     "collapsed": false
    },
    "source": []
   }
  }
 },
 "nbformat": 4,
 "nbformat_minor": 5
}
