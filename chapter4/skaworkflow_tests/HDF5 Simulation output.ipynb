{
 "cells": [
  {
   "cell_type": "code",
   "execution_count": 1,
   "id": "cf9c18b0",
   "metadata": {},
   "outputs": [
    {
     "name": "stdout",
     "output_type": "stream",
     "text": [
      "<HDF5 group \"/Sun230430105238/low_sdp_config\" (3 members)>\n",
      "<HDF5 group \"/Sun230430110506/low_sdp_config\" (3 members)>\n"
     ]
    }
   ],
   "source": [
    "import h5py\n",
    "\n",
    "h5path = 'results_2023-04-30.h5'\n",
    "\n",
    "f= h5py.File(h5path)\n",
    "for k in f.keys():\n",
    "    print(f[k]['low_sdp_config'])"
   ]
  },
  {
   "cell_type": "code",
   "execution_count": 2,
   "id": "66cad154",
   "metadata": {
    "scrolled": true
   },
   "outputs": [
    {
     "data": {
      "text/html": [
       "<div>\n",
       "<style scoped>\n",
       "    .dataframe tbody tr th:only-of-type {\n",
       "        vertical-align: middle;\n",
       "    }\n",
       "\n",
       "    .dataframe tbody tr th {\n",
       "        vertical-align: top;\n",
       "    }\n",
       "\n",
       "    .dataframe thead th {\n",
       "        text-align: right;\n",
       "    }\n",
       "</style>\n",
       "<table border=\"1\" class=\"dataframe\">\n",
       "  <thead>\n",
       "    <tr style=\"text-align: right;\">\n",
       "      <th></th>\n",
       "      <th>time</th>\n",
       "      <th>actor</th>\n",
       "      <th>observation</th>\n",
       "      <th>event</th>\n",
       "      <th>resource</th>\n",
       "    </tr>\n",
       "  </thead>\n",
       "  <tbody>\n",
       "    <tr>\n",
       "      <th>0</th>\n",
       "      <td>0.000000</td>\n",
       "      <td>instrument</td>\n",
       "      <td>hpso01_0</td>\n",
       "      <td>started</td>\n",
       "      <td>telescope</td>\n",
       "    </tr>\n",
       "    <tr>\n",
       "      <th>0</th>\n",
       "      <td>0.000000</td>\n",
       "      <td>buffer</td>\n",
       "      <td>hpso01_0</td>\n",
       "      <td>added</td>\n",
       "      <td>buffer</td>\n",
       "    </tr>\n",
       "    <tr>\n",
       "      <th>0</th>\n",
       "      <td>5.000000</td>\n",
       "      <td>instrument</td>\n",
       "      <td>hpso01_0</td>\n",
       "      <td>finished</td>\n",
       "      <td>telescope</td>\n",
       "    </tr>\n",
       "    <tr>\n",
       "      <th>0</th>\n",
       "      <td>5.000000</td>\n",
       "      <td>buffer</td>\n",
       "      <td>hpso01_0</td>\n",
       "      <td>started</td>\n",
       "      <td>transfer</td>\n",
       "    </tr>\n",
       "    <tr>\n",
       "      <th>0</th>\n",
       "      <td>7.566667</td>\n",
       "      <td>scheduler</td>\n",
       "      <td>hpso01_0</td>\n",
       "      <td>added</td>\n",
       "      <td>queue</td>\n",
       "    </tr>\n",
       "    <tr>\n",
       "      <th>1</th>\n",
       "      <td>7.566667</td>\n",
       "      <td>scheduler</td>\n",
       "      <td>hpso01_0</td>\n",
       "      <td>started</td>\n",
       "      <td>allocation</td>\n",
       "    </tr>\n",
       "    <tr>\n",
       "      <th>0</th>\n",
       "      <td>7.566667</td>\n",
       "      <td>buffer</td>\n",
       "      <td>hpso01_0</td>\n",
       "      <td>stopped</td>\n",
       "      <td>transfer</td>\n",
       "    </tr>\n",
       "    <tr>\n",
       "      <th>0</th>\n",
       "      <td>16.645833</td>\n",
       "      <td>scheduler</td>\n",
       "      <td>hpso01_0</td>\n",
       "      <td>stopped</td>\n",
       "      <td>allocation</td>\n",
       "    </tr>\n",
       "    <tr>\n",
       "      <th>1</th>\n",
       "      <td>16.645833</td>\n",
       "      <td>scheduler</td>\n",
       "      <td>hpso01_0</td>\n",
       "      <td>removed</td>\n",
       "      <td>queue</td>\n",
       "    </tr>\n",
       "  </tbody>\n",
       "</table>\n",
       "</div>"
      ],
      "text/plain": [
       "        time       actor observation     event    resource\n",
       "0   0.000000  instrument    hpso01_0   started   telescope\n",
       "0   0.000000      buffer    hpso01_0     added      buffer\n",
       "0   5.000000  instrument    hpso01_0  finished   telescope\n",
       "0   5.000000      buffer    hpso01_0   started    transfer\n",
       "0   7.566667   scheduler    hpso01_0     added       queue\n",
       "1   7.566667   scheduler    hpso01_0   started  allocation\n",
       "0   7.566667      buffer    hpso01_0   stopped    transfer\n",
       "0  16.645833   scheduler    hpso01_0   stopped  allocation\n",
       "1  16.645833   scheduler    hpso01_0   removed       queue"
      ]
     },
     "execution_count": 2,
     "metadata": {},
     "output_type": "execute_result"
    }
   ],
   "source": [
    "import pandas as pd\n",
    "\n",
    "\n",
    "df = pd.read_hdf(h5path,key=\"/Sun230430110506/low_sdp_config/summary\")\n",
    "df\n",
    "df['time'] = df['time']*5/3600\n",
    "df"
   ]
  },
  {
   "cell_type": "code",
   "execution_count": null,
   "id": "f8ee7a36",
   "metadata": {},
   "outputs": [],
   "source": [
    "hpso01 => Ingest + RCAL + FastImg: 0.0-5.0\n",
    "hpso01 => Stage Measurements (input -> hot): 5.0-7.5652791044917915\n",
    "hpso01 => ICAL + DPrepA + DPrepB + DPrepC + DPrepD: 7.5652791044917915-16.47916799338068\n"
   ]
  },
  {
   "cell_type": "code",
   "execution_count": null,
   "id": "7cccd766",
   "metadata": {},
   "outputs": [],
   "source": [
    "f.close()"
   ]
  }
 ],
 "metadata": {
  "kernelspec": {
   "display_name": "Python 3 (ipykernel)",
   "language": "python",
   "name": "python3"
  },
  "language_info": {
   "codemirror_mode": {
    "name": "ipython",
    "version": 3
   },
   "file_extension": ".py",
   "mimetype": "text/x-python",
   "name": "python",
   "nbconvert_exporter": "python",
   "pygments_lexer": "ipython3",
   "version": "3.8.10"
  }
 },
 "nbformat": 4,
 "nbformat_minor": 5
}
