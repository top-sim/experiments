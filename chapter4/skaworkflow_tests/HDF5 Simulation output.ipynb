{
 "cells": [
  {
   "cell_type": "code",
   "execution_count": 1,
   "id": "cf9c18b0",
   "metadata": {
    "tags": []
   },
   "outputs": [
    {
     "name": "stdout",
     "output_type": "stream",
     "text": [
      "<HDF5 group \"/Wed230712183620/no_data_low_sdp_config_prototype_n896_896channels\" (3 members)>\n",
      "<HDF5 group \"/Wed230712190803/no_data_low_sdp_config_prototype_n896_896channels\" (3 members)>\n",
      "<HDF5 group \"/Wed230712201124/no_data_low_sdp_config_prototype_n896_896channels\" (3 members)>\n"
     ]
    }
   ],
   "source": [
    "import h5py\n",
    "# chapter4/skaworkflow_tests/results_2023-07-12.h5\n",
    "h5path = 'results_2023-07-12.h5'\n",
    "\n",
    "f= h5py.File(h5path)\n",
    "for k in f.keys():\n",
    "#     print(f[k].keys())\n",
    "    print(f[k]['no_data_low_sdp_config_prototype_n896_896channels'])"
   ]
  },
  {
   "cell_type": "code",
   "execution_count": 4,
   "id": "66cad154",
   "metadata": {
    "scrolled": false,
    "tags": []
   },
   "outputs": [
    {
     "data": {
      "text/html": [
       "<div>\n",
       "<style scoped>\n",
       "    .dataframe tbody tr th:only-of-type {\n",
       "        vertical-align: middle;\n",
       "    }\n",
       "\n",
       "    .dataframe tbody tr th {\n",
       "        vertical-align: top;\n",
       "    }\n",
       "\n",
       "    .dataframe thead th {\n",
       "        text-align: right;\n",
       "    }\n",
       "</style>\n",
       "<table border=\"1\" class=\"dataframe\">\n",
       "  <thead>\n",
       "    <tr style=\"text-align: right;\">\n",
       "      <th></th>\n",
       "      <th>time</th>\n",
       "      <th>actor</th>\n",
       "      <th>observation</th>\n",
       "      <th>event</th>\n",
       "      <th>resource</th>\n",
       "    </tr>\n",
       "  </thead>\n",
       "  <tbody>\n",
       "    <tr>\n",
       "      <th>0</th>\n",
       "      <td>0.000000</td>\n",
       "      <td>instrument</td>\n",
       "      <td>hpso01_0</td>\n",
       "      <td>started</td>\n",
       "      <td>telescope</td>\n",
       "    </tr>\n",
       "    <tr>\n",
       "      <th>0</th>\n",
       "      <td>0.000000</td>\n",
       "      <td>buffer</td>\n",
       "      <td>hpso01_0</td>\n",
       "      <td>added</td>\n",
       "      <td>buffer</td>\n",
       "    </tr>\n",
       "    <tr>\n",
       "      <th>0</th>\n",
       "      <td>5.000000</td>\n",
       "      <td>instrument</td>\n",
       "      <td>hpso01_0</td>\n",
       "      <td>finished</td>\n",
       "      <td>telescope</td>\n",
       "    </tr>\n",
       "    <tr>\n",
       "      <th>0</th>\n",
       "      <td>5.000000</td>\n",
       "      <td>buffer</td>\n",
       "      <td>hpso01_0</td>\n",
       "      <td>started</td>\n",
       "      <td>transfer</td>\n",
       "    </tr>\n",
       "    <tr>\n",
       "      <th>0</th>\n",
       "      <td>5.016667</td>\n",
       "      <td>instrument</td>\n",
       "      <td>hpso01_1</td>\n",
       "      <td>started</td>\n",
       "      <td>telescope</td>\n",
       "    </tr>\n",
       "    <tr>\n",
       "      <th>0</th>\n",
       "      <td>7.566667</td>\n",
       "      <td>scheduler</td>\n",
       "      <td>hpso01_0</td>\n",
       "      <td>added</td>\n",
       "      <td>queue</td>\n",
       "    </tr>\n",
       "    <tr>\n",
       "      <th>1</th>\n",
       "      <td>7.566667</td>\n",
       "      <td>scheduler</td>\n",
       "      <td>hpso01_0</td>\n",
       "      <td>started</td>\n",
       "      <td>allocation</td>\n",
       "    </tr>\n",
       "    <tr>\n",
       "      <th>0</th>\n",
       "      <td>7.566667</td>\n",
       "      <td>buffer</td>\n",
       "      <td>hpso01_0</td>\n",
       "      <td>stopped</td>\n",
       "      <td>transfer</td>\n",
       "    </tr>\n",
       "    <tr>\n",
       "      <th>0</th>\n",
       "      <td>10.000000</td>\n",
       "      <td>buffer</td>\n",
       "      <td>hpso01_1</td>\n",
       "      <td>started</td>\n",
       "      <td>transfer</td>\n",
       "    </tr>\n",
       "    <tr>\n",
       "      <th>0</th>\n",
       "      <td>10.016667</td>\n",
       "      <td>instrument</td>\n",
       "      <td>hpso01_1</td>\n",
       "      <td>finished</td>\n",
       "      <td>telescope</td>\n",
       "    </tr>\n",
       "    <tr>\n",
       "      <th>0</th>\n",
       "      <td>12.566667</td>\n",
       "      <td>scheduler</td>\n",
       "      <td>hpso01_1</td>\n",
       "      <td>added</td>\n",
       "      <td>queue</td>\n",
       "    </tr>\n",
       "    <tr>\n",
       "      <th>1</th>\n",
       "      <td>12.566667</td>\n",
       "      <td>scheduler</td>\n",
       "      <td>hpso01_1</td>\n",
       "      <td>started</td>\n",
       "      <td>allocation</td>\n",
       "    </tr>\n",
       "    <tr>\n",
       "      <th>0</th>\n",
       "      <td>12.566667</td>\n",
       "      <td>buffer</td>\n",
       "      <td>hpso01_1</td>\n",
       "      <td>stopped</td>\n",
       "      <td>transfer</td>\n",
       "    </tr>\n",
       "    <tr>\n",
       "      <th>0</th>\n",
       "      <td>28.133333</td>\n",
       "      <td>scheduler</td>\n",
       "      <td>hpso01_0</td>\n",
       "      <td>stopped</td>\n",
       "      <td>allocation</td>\n",
       "    </tr>\n",
       "    <tr>\n",
       "      <th>1</th>\n",
       "      <td>28.133333</td>\n",
       "      <td>scheduler</td>\n",
       "      <td>hpso01_0</td>\n",
       "      <td>removed</td>\n",
       "      <td>queue</td>\n",
       "    </tr>\n",
       "    <tr>\n",
       "      <th>0</th>\n",
       "      <td>48.783333</td>\n",
       "      <td>scheduler</td>\n",
       "      <td>hpso01_1</td>\n",
       "      <td>stopped</td>\n",
       "      <td>allocation</td>\n",
       "    </tr>\n",
       "    <tr>\n",
       "      <th>1</th>\n",
       "      <td>48.783333</td>\n",
       "      <td>scheduler</td>\n",
       "      <td>hpso01_1</td>\n",
       "      <td>removed</td>\n",
       "      <td>queue</td>\n",
       "    </tr>\n",
       "  </tbody>\n",
       "</table>\n",
       "</div>"
      ],
      "text/plain": [
       "        time       actor observation     event    resource\n",
       "0   0.000000  instrument    hpso01_0   started   telescope\n",
       "0   0.000000      buffer    hpso01_0     added      buffer\n",
       "0   5.000000  instrument    hpso01_0  finished   telescope\n",
       "0   5.000000      buffer    hpso01_0   started    transfer\n",
       "0   5.016667  instrument    hpso01_1   started   telescope\n",
       "0   7.566667   scheduler    hpso01_0     added       queue\n",
       "1   7.566667   scheduler    hpso01_0   started  allocation\n",
       "0   7.566667      buffer    hpso01_0   stopped    transfer\n",
       "0  10.000000      buffer    hpso01_1   started    transfer\n",
       "0  10.016667  instrument    hpso01_1  finished   telescope\n",
       "0  12.566667   scheduler    hpso01_1     added       queue\n",
       "1  12.566667   scheduler    hpso01_1   started  allocation\n",
       "0  12.566667      buffer    hpso01_1   stopped    transfer\n",
       "0  28.133333   scheduler    hpso01_0   stopped  allocation\n",
       "1  28.133333   scheduler    hpso01_0   removed       queue\n",
       "0  48.783333   scheduler    hpso01_1   stopped  allocation\n",
       "1  48.783333   scheduler    hpso01_1   removed       queue"
      ]
     },
     "execution_count": 4,
     "metadata": {},
     "output_type": "execute_result"
    }
   ],
   "source": [
    "import pandas as pd\n",
    "\n",
    "\n",
    "df = pd.read_hdf(h5path,key=\"Wed230712201124/no_data_low_sdp_config_prototype_n896_896channels/summary\")\n",
    "df\n",
    "df['time'] = df['time']*60/3600\n",
    "df\n"
   ]
  },
  {
   "cell_type": "code",
   "execution_count": null,
   "id": "f8ee7a36",
   "metadata": {},
   "outputs": [],
   "source": [
    "hpso01 => Ingest + RCAL + FastImg: 0.0-5.0\n",
    "hpso01 => Stage Measurements (input -> hot): 5.0-7.5652791044917915\n",
    "hpso01 => ICAL + DPrepA + DPrepB + DPrepC + DPrepD: 7.5652791044917915-18.476112437825126\n",
    "hpso01 => Stage Data Products (hot -> output): 18.476112437825126-26.283268910523837\n",
    "hpso01 => Deliver Data Products: 26.283268910523837-31.27984905305102\n",
    "hpso01 => Sequence: 5.0-5.0"
   ]
  },
  {
   "cell_type": "code",
   "execution_count": null,
   "id": "7cccd766",
   "metadata": {},
   "outputs": [],
   "source": [
    "f.close()"
   ]
  },
  {
   "cell_type": "code",
   "execution_count": null,
   "id": "c50f016f",
   "metadata": {
    "pycharm": {
     "name": "#%%\n"
    }
   },
   "outputs": [],
   "source": [
    "75"
   ]
  },
  {
   "cell_type": "code",
   "execution_count": null,
   "id": "718e2b35-d151-4e03-9442-17efd7eeba5e",
   "metadata": {},
   "outputs": [],
   "source": [
    "75"
   ]
  }
 ],
 "metadata": {
  "kernelspec": {
   "display_name": "Python 3 (ipykernel)",
   "language": "python",
   "name": "python3"
  },
  "language_info": {
   "codemirror_mode": {
    "name": "ipython",
    "version": 3
   },
   "file_extension": ".py",
   "mimetype": "text/x-python",
   "name": "python",
   "nbconvert_exporter": "python",
   "pygments_lexer": "ipython3",
   "version": "3.8.10"
  },
  "pycharm": {
   "stem_cell": {
    "cell_type": "raw",
    "source": [],
    "metadata": {
     "collapsed": false
    }
   }
  }
 },
 "nbformat": 4,
 "nbformat_minor": 5
}