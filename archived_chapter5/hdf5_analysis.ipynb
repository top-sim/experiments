{
 "cells": [
  {
   "cell_type": "code",
   "execution_count": 1,
   "id": "2854d428-cc2b-4562-9a9f-292bc1c743c6",
   "metadata": {},
   "outputs": [],
   "source": [
    "import h5py\n",
    "import pandas as pd\n",
    "\n",
    "# %cd \"chapter5\""
   ]
  },
  {
   "cell_type": "code",
   "execution_count": 116,
   "id": "a86241d4-1636-4f47-ad1f-2251036bbba3",
   "metadata": {},
   "outputs": [
    {
     "name": "stdout",
     "output_type": "stream",
     "text": [
      "[['', 'Fri240705143112', 'skaworkflows_2024-07-02_14-39-09_3', 'sim'], ['', 'Fri240705143112', 'skaworkflows_2024-07-02_14-39-09_3', 'summary'], ['', 'Fri240705143112', 'skaworkflows_2024-07-02_14-39-09_3', 'tasks'], ['', 'Fri240705143112', 'skaworkflows_2024-07-02_14-39-09_2', 'sim'], ['', 'Fri240705143112', 'skaworkflows_2024-07-02_14-39-09_2', 'summary'], ['', 'Fri240705143112', 'skaworkflows_2024-07-02_14-39-09_2', 'tasks'], ['', 'Fri240705143112', 'skaworkflows_2024-07-02_14-39-09_1', 'sim'], ['', 'Fri240705143112', 'skaworkflows_2024-07-02_14-39-09_1', 'summary'], ['', 'Fri240705143112', 'skaworkflows_2024-07-02_14-39-09_1', 'tasks'], ['', 'Fri240705143112', 'skaworkflows_2024-07-02_14-39-09_0', 'sim'], ['', 'Fri240705143112', 'skaworkflows_2024-07-02_14-39-09_0', 'summary'], ['', 'Fri240705143112', 'skaworkflows_2024-07-02_14-39-09_0', 'tasks'], ['', 'Fri240705143112', 'skaworkflows_2024-07-02_14-37-48_9', 'sim'], ['', 'Fri240705143112', 'skaworkflows_2024-07-02_14-37-48_9', 'summary'], ['', 'Fri240705143112', 'skaworkflows_2024-07-02_14-37-48_9', 'tasks'], ['', 'Fri240705143112', 'skaworkflows_2024-07-02_14-37-48_8', 'sim'], ['', 'Fri240705143112', 'skaworkflows_2024-07-02_14-37-48_8', 'summary'], ['', 'Fri240705143112', 'skaworkflows_2024-07-02_14-37-48_8', 'tasks'], ['', 'Fri240705143112', 'skaworkflows_2024-07-02_14-37-48_7', 'sim'], ['', 'Fri240705143112', 'skaworkflows_2024-07-02_14-37-48_7', 'summary'], ['', 'Fri240705143112', 'skaworkflows_2024-07-02_14-37-48_7', 'tasks'], ['', 'Fri240705143112', 'skaworkflows_2024-07-02_14-37-48_6', 'sim'], ['', 'Fri240705143112', 'skaworkflows_2024-07-02_14-37-48_6', 'summary'], ['', 'Fri240705143112', 'skaworkflows_2024-07-02_14-37-48_6', 'tasks'], ['', 'Fri240705143112', 'skaworkflows_2024-07-02_14-37-48_5', 'sim'], ['', 'Fri240705143112', 'skaworkflows_2024-07-02_14-37-48_5', 'summary'], ['', 'Fri240705143112', 'skaworkflows_2024-07-02_14-37-48_5', 'tasks'], ['', 'Fri240705143112', 'skaworkflows_2024-07-02_14-37-48_4', 'sim'], ['', 'Fri240705143112', 'skaworkflows_2024-07-02_14-37-48_4', 'summary'], ['', 'Fri240705143112', 'skaworkflows_2024-07-02_14-37-48_4', 'tasks'], ['', 'Fri240705143111', 'skaworkflows_2024-07-02_14-37-48_4', 'sim'], ['', 'Fri240705143111', 'skaworkflows_2024-07-02_14-37-48_4', 'summary'], ['', 'Fri240705143111', 'skaworkflows_2024-07-02_14-37-48_4', 'tasks']]\n"
     ]
    }
   ],
   "source": [
    "# resfile = 'results_f2024-06-16.h5'\n",
    "resfile = 'results_f2024-07-05.h5'\n",
    "store = pd.HDFStore(resfile)\n",
    "keysplit = []\n",
    "for k in store.keys():\n",
    "    keysplit.append(k.split('/'))\n",
    "store.close()\n",
    "print(keysplit)\n",
    "dataset_types = ['sim', 'summary', 'tasks']\n",
    "simulations = { f\"{e[1]}/{e[2]}\":{d:None for d in dataset_types} for e in keysplit  }\n",
    "for simulation, dtype in simulations.items():\n",
    "     for dst in dataset_types:\n",
    "         simulations[simulation][dst] = pd.read_hdf(resfile,key=f\"{simulation}/{dst}\")\n",
    "# for simulation, dtype in simulations.items():\n",
    "#     print(simulations[simulation]['summary'])\n"
   ]
  },
  {
   "cell_type": "code",
   "execution_count": 8,
   "id": "d1f30abf-dab6-4e02-83f9-feb6b832070a",
   "metadata": {},
   "outputs": [
    {
     "data": {
      "text/plain": [
       "dict_keys(['Sat240629170202/skaworkflows_2024-06-25_20-53-01_8', 'Sat240629170202/skaworkflows_2024-06-25_20-48-36_9', 'Sat240629170202/skaworkflows_2024-06-25_20-48-36_1', 'Sat240629170202/skaworkflows_2024-06-25_20-43-57_9', 'Sat240629170202/skaworkflows_2024-06-25_20-43-57_4', 'Sat240629170202/skaworkflows_2024-06-25_20-43-57_3', 'Sat240629170202/skaworkflows_2024-06-25_20-43-57_2', 'Sat240629170202/skaworkflows_2024-06-25_20-43-57_1', 'Sat240629170202/skaworkflows_2024-06-25_20-39-03_8', 'Sat240629170202/skaworkflows_2024-06-25_20-39-03_7', 'Sat240629170202/skaworkflows_2024-06-25_20-39-03_4', 'Sat240629170202/skaworkflows_2024-06-25_20-39-03_3', 'Sat240629170202/skaworkflows_2024-06-25_20-37-49_9', 'Sat240629170202/skaworkflows_2024-06-25_20-37-49_8', 'Sat240629170202/skaworkflows_2024-06-25_20-37-49_7', 'Sat240629170202/skaworkflows_2024-06-25_20-37-49_4', 'Sat240629170202/skaworkflows_2024-06-25_20-37-11_6', 'Sat240629170202/skaworkflows_2024-06-25_20-36-15_7', 'Sat240629170202/skaworkflows_2024-06-25_20-36-15_4', 'Sat240629170202/skaworkflows_2024-06-25_20-36-15_1', 'Sat240629170202/skaworkflows_2024-06-25_20-35-50_6', 'Sat240629170201/skaworkflows_2024-06-25_20-39-03_0'])"
      ]
     },
     "execution_count": 8,
     "metadata": {},
     "output_type": "execute_result"
    }
   ],
   "source": [
    "simulations.keys()"
   ]
  },
  {
   "cell_type": "code",
   "execution_count": null,
   "id": "78c51578-21c4-4ca1-9964-52e058a14722",
   "metadata": {},
   "outputs": [],
   "source": []
  },
  {
   "cell_type": "code",
   "execution_count": null,
   "id": "9634dccd-97a1-4e7b-8723-6b2aba39be76",
   "metadata": {},
   "outputs": [],
   "source": []
  },
  {
   "cell_type": "code",
   "execution_count": 124,
   "id": "54103b6a-938e-4d02-91dc-4c732f0c51f6",
   "metadata": {
    "scrolled": true
   },
   "outputs": [
    {
     "data": {
      "text/html": [
       "<div>\n",
       "<style scoped>\n",
       "    .dataframe tbody tr th:only-of-type {\n",
       "        vertical-align: middle;\n",
       "    }\n",
       "\n",
       "    .dataframe tbody tr th {\n",
       "        vertical-align: top;\n",
       "    }\n",
       "\n",
       "    .dataframe thead th {\n",
       "        text-align: right;\n",
       "    }\n",
       "</style>\n",
       "<table border=\"1\" class=\"dataframe\">\n",
       "  <thead>\n",
       "    <tr style=\"text-align: right;\">\n",
       "      <th></th>\n",
       "      <th>planning</th>\n",
       "      <th>scheduling</th>\n",
       "    </tr>\n",
       "  </thead>\n",
       "  <tbody>\n",
       "    <tr>\n",
       "      <th>0</th>\n",
       "      <td>planning</td>\n",
       "      <td>scheduling</td>\n",
       "    </tr>\n",
       "    <tr>\n",
       "      <th>1</th>\n",
       "      <td>planning</td>\n",
       "      <td>scheduling</td>\n",
       "    </tr>\n",
       "    <tr>\n",
       "      <th>2</th>\n",
       "      <td>planning</td>\n",
       "      <td>scheduling</td>\n",
       "    </tr>\n",
       "    <tr>\n",
       "      <th>3</th>\n",
       "      <td>planning</td>\n",
       "      <td>scheduling</td>\n",
       "    </tr>\n",
       "    <tr>\n",
       "      <th>4</th>\n",
       "      <td>planning</td>\n",
       "      <td>scheduling</td>\n",
       "    </tr>\n",
       "    <tr>\n",
       "      <th>...</th>\n",
       "      <td>...</td>\n",
       "      <td>...</td>\n",
       "    </tr>\n",
       "    <tr>\n",
       "      <th>70690</th>\n",
       "      <td>planning</td>\n",
       "      <td>scheduling</td>\n",
       "    </tr>\n",
       "    <tr>\n",
       "      <th>70691</th>\n",
       "      <td>planning</td>\n",
       "      <td>scheduling</td>\n",
       "    </tr>\n",
       "    <tr>\n",
       "      <th>70692</th>\n",
       "      <td>planning</td>\n",
       "      <td>scheduling</td>\n",
       "    </tr>\n",
       "    <tr>\n",
       "      <th>70693</th>\n",
       "      <td>planning</td>\n",
       "      <td>scheduling</td>\n",
       "    </tr>\n",
       "    <tr>\n",
       "      <th>70694</th>\n",
       "      <td>planning</td>\n",
       "      <td>scheduling</td>\n",
       "    </tr>\n",
       "  </tbody>\n",
       "</table>\n",
       "<p>70695 rows × 2 columns</p>\n",
       "</div>"
      ],
      "text/plain": [
       "       planning  scheduling\n",
       "0      planning  scheduling\n",
       "1      planning  scheduling\n",
       "2      planning  scheduling\n",
       "3      planning  scheduling\n",
       "4      planning  scheduling\n",
       "...         ...         ...\n",
       "70690  planning  scheduling\n",
       "70691  planning  scheduling\n",
       "70692  planning  scheduling\n",
       "70693  planning  scheduling\n",
       "70694  planning  scheduling\n",
       "\n",
       "[70695 rows x 2 columns]"
      ]
     },
     "execution_count": 124,
     "metadata": {},
     "output_type": "execute_result"
    }
   ],
   "source": [
    "import matplotlib.pyplot as plt \n",
    "import json \n",
    "from pathlib import Path\n",
    "df = None\n",
    "\n",
    "df_total = pd.DataFrame()\n",
    "\n",
    "for simulation, dtype in simulations.items():\n",
    "    df = simulations[simulation]['summary']\n",
    "    \n",
    "    # print(df[(df['event']=='finished') | (df['event']=='started')]) # & df['actor']=='telescope'])\n",
    "    # print(df[(df['event']=='stopped') & (df['actor']=='scheduler')]) # & df['actor']=='telescope']\n",
    "\n",
    "    df_tel = (df[(df['actor']=='instrument')])\n",
    "    \n",
    "    obs_durations = []\n",
    "    for obs in set(df_tel['observation']):\n",
    "        df_obs = df_tel[df_tel['observation'] == obs]\n",
    "        obs_durations.append(df_obs[df_obs['event']=='finished']['time'].iloc[0] \n",
    "            - df_obs[df_obs['event'] =='started']['time'].iloc[0])\n",
    "\n",
    "    df_sim = simulations[simulation]['sim']\n",
    "    # print(df_sim['available_resources'].iloc[0])\n",
    "    cfg_path = Path(df_sim['config'].iloc[0])\n",
    "    # cfg_path = cfg_path.parent / str(cfg_path.parent / 'processed' / cfg_path.name)\n",
    "    # BASE_DIR = Path(\"examples/playground/config\")\n",
    "    # for cfg_path in os.listdir(BASE_DIR):\n",
    "    #     if (BASE_DIR / cfg_path).is_dir():\n",
    "    #         continue\n",
    "    with open(cfg_path) as fp:\n",
    "        cfg = json.load(fp)\n",
    "    pipelines = cfg[\"instrument\"][\"telescope\"][\"pipelines\"]\n",
    "    nodes = len(cfg[\"cluster\"][\"system\"][\"resources\"])\n",
    "    observations = pipelines.keys()\n",
    "    parameters = (\n",
    "        pd.DataFrame.from_dict(pipelines, orient=\"index\")\n",
    "        .reset_index()\n",
    "        .rename(columns={\"index\": \"observation\"})\n",
    "    )\n",
    "    parameters[\"nodes\"] = nodes\n",
    "    # parameters[\"dir\"] = BASE_DIR\n",
    "    \n",
    "    # So long as the second last workflow is put on the scheduler \n",
    "    # before the sum of the total observations is complete, we should be fine. \n",
    "    # This means that the only thing that needs computing after the final observation\n",
    "    # is the workflow associated with that observation, which means we aren't \n",
    "    # 'in the red' as far as the shedule is concerned. \n",
    "    \n",
    "    # print(sum(obs_durations))\n",
    "    print\n",
    "    \n",
    "    df_sched=df[(df['actor']=='scheduler')] # get the last \"started\" time of a workflow on the scheduler\n",
    "    # print((sum(obs_durations) - sorted(df_sched[df_sched['event']=='stopped']['time'])[-2]) / (sum(obs_durations)))\n",
    "    # print(sorted(df_tel['time'])[-2])\n",
    "    # print\n",
    "    # print(sum(obs_durations))\n",
    "    success=True\n",
    "    if (sum(obs_durations) - sorted(df_sched[df_sched['event']=='stopped']['time'])[-2]) < 0:\n",
    "        success = False\n",
    "\n",
    "    parameters['success'] = success\n",
    "    parameters['success_ratio'] = (sum(obs_durations) - sorted(df_sched[df_sched['event']=='stopped']['time'])[-2])/sum(obs_durations)\n",
    "    parameters['sim_cfg'] = cfg_path.name\n",
    "    # print(parameters[['channels', 'coarse_channels', 'demand', 'success_ratio']])\n",
    "\n",
    "    df_total=pd.concat([df_total, parameters],ignore_index=True)\n",
    "\n",
    "dfgb = df_total.groupby(['sim_cfg'])\n",
    "\n",
    "\n",
    "sims = []\n",
    "ratios = []\n",
    "for name, group in dfgb:\n",
    "    # group['success_ratio'].iloc[0])\n",
    "    sims.append(name[0])\n",
    "    # ratios.append(float(group['success_ratio'].iloc[0]))\n",
    "    # print(name, group[['success_ratio','demand', 'channels']])#.drop_duplicates())\n",
    "\n",
    "df_sim[['planning', 'scheduling']]"
   ]
  },
  {
   "cell_type": "code",
   "execution_count": 109,
   "id": "d089f422-d83e-4015-9b50-39941838830f",
   "metadata": {},
   "outputs": [
    {
     "data": {
      "text/plain": [
       "(array([ 9.,  0.,  0.,  0.,  0.,  0.,  0.,  0.,  0., 51.]),\n",
       " array([-1.89836111, -1.69950833, -1.50065556, -1.30180278, -1.10295   ,\n",
       "        -0.90409722, -0.70524444, -0.50639167, -0.30753889, -0.10868611,\n",
       "         0.09016667]),\n",
       " <BarContainer object of 10 artists>)"
      ]
     },
     "execution_count": 109,
     "metadata": {},
     "output_type": "execute_result"
    },
    {
     "data": {
      "image/png": "[encoded data removed]",
      "text/plain": [
       "<Figure size 640x480 with 1 Axes>"
      ]
     },
     "metadata": {},
     "output_type": "display_data"
    }
   ],
   "source": [
    "import seaborn as sns\n",
    "\n",
    "demand, channels = {'success': [], 'failure':[]}, {'success': [], 'failure':[]}\n",
    "for o in list(df_total['observation']):\n",
    "    if bool(df_total[df_total['observation'] == o]['success'].iloc[0]):\n",
    "        demand['success'].append(int(df_total[df_total['observation'] == o]['demand'].iloc[0]))\n",
    "        channels['success'].append(int(df_total[df_total['observation'] == o]['coarse_channels'].iloc[0]))\n",
    "    else:\n",
    "        demand['failure'].append(int(df_total[df_total['observation'] == o]['demand'].iloc[0]))\n",
    "        channels['failure'].append(int(df_total[df_total['observation'] == o]['coarse_channels'].iloc[0]))\n",
    "# df_total['coarse_channels'] = df_total['coarse_channels'].astype('category')\n",
    "# df_total['demand'] = df_total['demand'].astype('category')\n",
    "\n",
    "fig, ax = plt.subplots()\n",
    "# ax.hist(ratios)\n",
    "# scatter = ax.hist(demand['success'],color='blue') #, channels['success'], c='blue')\n",
    "# scatter = ax.hist(demand['failure'], color='orange') #, channels['failure'], c='red')\n",
    "# fig, ax = plt.subplots()\n",
    "# # ax.set_xticks(ticks=range(0,512, 128), labels=range(0, 512,128))\n",
    "# g = sns.displot(data=df_total, x='demand', hue='success', multiple='dodge', binwidth=32, col='channels') #discrete=False) #, cbar=True,\n",
    "# g = sns.displot(data=df_total, x='demand', hue='success', multiple='dodge') #, cbar=True,\n",
    "\n",
    "# bins=16) #, ax=ax) # , hue='success', ax=ax, dodge=True)\n",
    "# ax.set_xticks(range(-1, 12))\n",
    "# label_range = range(0, 576, 64)\n",
    "# ax.set_xticks(range(-1, len(label_range)-1))\n",
    "# ax.set_xticklabels(label_range)\n",
    "# # g.set_xticks(range(0, 512, 64))\n",
    "# g.set_xticklabels(range(0, 512, 64))\n",
    "                   # f, ax = plt.subplots()\n",
    "# dataset = df_total.pivot(index='demand', columns='channels', values='success_ratio')\n",
    "# sns.relplot(x='demand', y='coarse_channels', hue='success', data=df_total, col='nodes') # ,ax=ax)\n",
    "# print(df_total[['channels', 'coarse_channels', 'demand', 'success_ratio']])\n",
    "# sns"
   ]
  },
  {
   "cell_type": "code",
   "execution_count": 75,
   "id": "84076774-022b-491b-8823-f6f8605a5ff3",
   "metadata": {},
   "outputs": [
    {
     "data": {
      "text/plain": [
       "dict_keys(['Sun240616163628/skaworkflows_2024-06-16_15-36-15', 'Sun240616163628/skaworkflows_2024-06-16_15-35-55', 'Sun240616163628/skaworkflows_2024-06-16_14-41-49', 'Sun240616163627/skaworkflows_2024-06-16_15-06-51', 'Sun240616153637/skaworkflows_2024-06-16_15-36-15', 'Sun240616153637/skaworkflows_2024-06-16_15-35-55', 'Sun240616153637/skaworkflows_2024-06-16_14-41-49', 'Sun240616153636/skaworkflows_2024-06-16_15-06-51', 'Sun240616150714/skaworkflows_2024-06-16_14-41-49', 'Sun240616150713/skaworkflows_2024-06-16_15-06-51', 'Sun240616144209/skaworkflows_2024-06-16_14-41-49'])"
      ]
     },
     "execution_count": 75,
     "metadata": {},
     "output_type": "execute_result"
    }
   ],
   "source": [
    "simulations.keys()"
   ]
  },
  {
   "cell_type": "code",
   "execution_count": null,
   "id": "647cd92a-5b49-4888-b895-0d054f779d34",
   "metadata": {},
   "outputs": [],
   "source": []
  },
  {
   "cell_type": "code",
   "execution_count": 89,
   "id": "a228e69e-90ce-41af-8ffe-1f9853bb8882",
   "metadata": {
    "scrolled": true
   },
   "outputs": [
    {
     "data": {
      "text/plain": [
       "([<matplotlib.axis.YTick at 0x7531785d5e40>,\n",
       "  <matplotlib.axis.YTick at 0x7531785d57e0>,\n",
       "  <matplotlib.axis.YTick at 0x7531785d4700>,\n",
       "  <matplotlib.axis.YTick at 0x75317860b9a0>,\n",
       "  <matplotlib.axis.YTick at 0x75317860baf0>,\n",
       "  <matplotlib.axis.YTick at 0x753178640940>,\n",
       "  <matplotlib.axis.YTick at 0x753178641120>,\n",
       "  <matplotlib.axis.YTick at 0x753178641900>,\n",
       "  <matplotlib.axis.YTick at 0x7531786420e0>,\n",
       "  <matplotlib.axis.YTick at 0x7531786416c0>,\n",
       "  <matplotlib.axis.YTick at 0x7531786423b0>,\n",
       "  <matplotlib.axis.YTick at 0x753178642b90>,\n",
       "  <matplotlib.axis.YTick at 0x753178643370>,\n",
       "  <matplotlib.axis.YTick at 0x753178643b50>,\n",
       "  <matplotlib.axis.YTick at 0x7531786431f0>,\n",
       "  <matplotlib.axis.YTick at 0x7531786412a0>,\n",
       "  <matplotlib.axis.YTick at 0x75317866c640>,\n",
       "  <matplotlib.axis.YTick at 0x75317866ce20>,\n",
       "  <matplotlib.axis.YTick at 0x75317866d600>,\n",
       "  <matplotlib.axis.YTick at 0x75317866dde0>],\n",
       " [Text(0, 0, 'hpso01_0: 2: Scheduler'),\n",
       "  Text(0, 1, 'hpso01_0: 1: Telescope'),\n",
       "  Text(0, 2, 'hpso01_1: 2: Scheduler'),\n",
       "  Text(0, 3, 'hpso01_1: 1: Telescope'),\n",
       "  Text(0, 4, 'hpso02a_2: 2: Scheduler'),\n",
       "  Text(0, 5, 'hpso02a_2: 1: Telescope'),\n",
       "  Text(0, 6, 'hpso02a_3: 2: Scheduler'),\n",
       "  Text(0, 7, 'hpso02a_3: 1: Telescope'),\n",
       "  Text(0, 8, 'hpso02a_4: 2: Scheduler'),\n",
       "  Text(0, 9, 'hpso02a_4: 1: Telescope'),\n",
       "  Text(0, 10, 'hpso02a_5: 2: Scheduler'),\n",
       "  Text(0, 11, 'hpso02a_5: 1: Telescope'),\n",
       "  Text(0, 12, 'hpso02b_6: 2: Scheduler'),\n",
       "  Text(0, 13, 'hpso02b_6: 1: Telescope'),\n",
       "  Text(0, 14, 'hpso02b_7: 2: Scheduler'),\n",
       "  Text(0, 15, 'hpso02b_7: 1: Telescope'),\n",
       "  Text(0, 16, 'hpso02b_8: 2: Scheduler'),\n",
       "  Text(0, 17, 'hpso02b_8: 1: Telescope'),\n",
       "  Text(0, 18, 'hpso02b_9: 2: Scheduler'),\n",
       "  Text(0, 19, 'hpso02b_9: 1: Telescope')])"
      ]
     },
     "execution_count": 89,
     "metadata": {},
     "output_type": "execute_result"
    },
    {
     "data": {
      "image/png": "[encoded data removed]",
      "text/plain": [
       "<Figure size 640x480 with 1 Axes>"
      ]
     },
     "metadata": {},
     "output_type": "display_data"
    }
   ],
   "source": [
    "# Using resfile = 'results_f2024-06-16.h5'\n",
    "\n",
    "import numpy as np\n",
    "# df = simulations['Sun240616153636/skaworkflows_2024-06-16_15-06-51']['summary']\n",
    "# df = simulations['Sun240616163628/skaworkflows_2024-06-16_14-41-49']['summary']\n",
    "df = simulations['Sun240616163628/skaworkflows_2024-06-16_15-35-55']['summary'] # passes\n",
    "\n",
    "\n",
    "# 'Sun240616163628/skaworkflows_2024-06-16_14-41-49'\n",
    "actors = set(df['actor'])\n",
    "# Observation telescope, started/finished\n",
    "# observation buffer, start/end -> we don´t particularly care about buffer\n",
    "# observation scheduler, added/removed\n",
    "obs = set(df['observation'])\n",
    "inst, sched = {}, {}\n",
    "obs_d = {o: {} for o in obs}\n",
    "for o in obs_d:\n",
    "    obs_d[o]['telescope'] = df[(df['observation'] == o) & (df['actor'] == 'instrument')]\n",
    "    obs_d[o]['scheduler'] = df[(df['observation'] == o) & (df['actor'] == 'scheduler')]\n",
    "\n",
    "begin, end = [], []\n",
    "obs_list = []\n",
    "for o in sorted(obs):\n",
    "    obs_list.append(f\"{o}: 2: Scheduler\")\n",
    "    sdf = obs_d[o]['scheduler']\n",
    "    begin.append(int(sdf[sdf['event'] == 'added']['time'].iloc[0])*5/3600)\n",
    "    end.append(int(sdf[sdf['event'] == 'removed']['time'].iloc[0])*5/3600)\n",
    "    obs_list.append(f\"{o}: 1: Telescope\")\n",
    "    tdf = obs_d[o]['telescope']\n",
    "    begin.append(int(tdf[tdf['event'] == 'started']['time'].iloc[0])*5/3600)\n",
    "    end.append(int(tdf[tdf['event'] == 'finished']['time'].iloc[0])*5/3600)\n",
    "\n",
    "import matplotlib.pyplot as plt \n",
    "plt.barh(range(len(begin)), np.array(end)-np.array(begin), color=['grey', 'orange'], left=np.array(begin), edgecolor='black')\n",
    "plt.yticks(range(len(begin)), obs_list)"
   ]
  },
  {
   "cell_type": "code",
   "execution_count": null,
   "id": "b11f5d8b-0381-4837-9c48-3d897b1a675a",
   "metadata": {},
   "outputs": [],
   "source": [
    "def get_observation_duration(df):\n",
    "    df_tel = (df[(df['actor']=='instrument')])\n",
    "\n",
    "    for obs in set(df_tel['observation']):\n",
    "        df_obs = df_tel[df_tel['observation'] == obs]\n",
    "        print(df_obs[df_obs['event']=='finished']['time'].iloc[0] \n",
    "            - df_obs[df_obs['event'] =='started']['time'].iloc[0])\n"
   ]
  },
  {
   "cell_type": "code",
   "execution_count": 9,
   "id": "09e7563f-4314-4500-ad14-cd5e60c6e088",
   "metadata": {},
   "outputs": [],
   "source": [
    "def get_config_parameters(config):\n",
    "    pass"
   ]
  },
  {
   "cell_type": "code",
   "execution_count": null,
   "id": "7a98e15e-efd0-4836-afa9-f862dc2cec46",
   "metadata": {},
   "outputs": [],
   "source": [
    "def get_dataset_types(dataset_type):\n",
    "    ds = {}\n",
    "    In [47]: for simulation, dtype in simulations.items():\n",
    "        ds[simulation] = simulations[simulation][dataset_type]"
   ]
  },
  {
   "cell_type": "code",
   "execution_count": 156,
   "id": "01ee8600-7a54-4665-956b-82afacfe2c78",
   "metadata": {},
   "outputs": [
    {
     "name": "stdout",
     "output_type": "stream",
     "text": [
      "256\n",
      "/home/rwb/Dropbox/University/PhD/experiment_data/chapter4/playground/low/prototype/skaworkflows_2024-m-19_15-55-47.json\n",
      "256\n",
      "/home/rwb/Dropbox/University/PhD/experiment_data/chapter4/playground/low/prototype/skaworkflows_2024-m-19_15-55-28.json\n",
      "256\n",
      "/home/rwb/Dropbox/University/PhD/experiment_data/chapter4/playground/low/prototype/skaworkflows_2024-m-19_15-55-19.json\n",
      "512\n",
      "/home/rwb/Dropbox/University/PhD/experiment_data/chapter4/playground/low/prototype/skaworkflows_2024-05-19_20-56-10.json\n",
      "512\n",
      "/home/rwb/Dropbox/University/PhD/experiment_data/chapter4/playground/low/prototype/skaworkflows_2024-05-19_20-54-42.json\n",
      "512\n",
      "/home/rwb/Dropbox/University/PhD/experiment_data/chapter4/playground/low/prototype/skaworkflows_2024-05-19_20-54-32.json\n",
      "512\n",
      "/home/rwb/Dropbox/University/PhD/experiment_data/chapter4/playground/low/prototype/skaworkflows_2024-05-19_20-54-10.json\n",
      "512\n",
      "/home/rwb/Dropbox/University/PhD/experiment_data/chapter4/playground/low/prototype/skaworkflows_2024-05-19_20-54-01.json\n",
      "128\n",
      "/home/rwb/Dropbox/University/PhD/experiment_data/chapter4/playground/low/prototype/skaworkflows_2024-05-19_17-01-07.json\n",
      "128\n",
      "/home/rwb/Dropbox/University/PhD/experiment_data/chapter4/playground/low/prototype/skaworkflows_2024-05-19_17-00-58.json\n",
      "128\n",
      "/home/rwb/Dropbox/University/PhD/experiment_data/chapter4/playground/low/prototype/skaworkflows_2024-05-19_17-00-39.json\n",
      "128\n",
      "/home/rwb/Dropbox/University/PhD/experiment_data/chapter4/playground/low/prototype/skaworkflows_2024-05-19_17-00-31.json\n",
      "256\n",
      "/home/rwb/Dropbox/University/PhD/experiment_data/chapter4/playground/low/prototype/skaworkflows_2024-m-19_15-55-56.json\n"
     ]
    }
   ],
   "source": [
    "for simulation, dtype in simulations.items():\n",
    "    df_sim = simulations[simulation]['sim']\n",
    "    print(df_sim['available_resources'].iloc[0])\n",
    "    df_tasks = simulations[simulation]['tasks']\n",
    "    df_sim['config'].iloc[0]"
   ]
  },
  {
   "cell_type": "code",
   "execution_count": 30,
   "id": "10afd815-ef99-49ce-84f1-8529f61916d2",
   "metadata": {},
   "outputs": [
    {
     "ename": "TypeError",
     "evalue": "cannot unpack non-iterable int object",
     "output_type": "error",
     "traceback": [
      "\u001b[0;31m---------------------------------------------------------------------------\u001b[0m",
      "\u001b[0;31mTypeError\u001b[0m                                 Traceback (most recent call last)",
      "Cell \u001b[0;32mIn[30], line 1\u001b[0m\n\u001b[0;32m----> 1\u001b[0m a, b, c \u001b[38;5;241m=\u001b[39m \u001b[38;5;241m1\u001b[39m\n",
      "\u001b[0;31mTypeError\u001b[0m: cannot unpack non-iterable int object"
     ]
    }
   ],
   "source": []
  }
 ],
 "metadata": {
  "kernelspec": {
   "display_name": "Python 3 (ipykernel)",
   "language": "python",
   "name": "python3"
  },
  "language_info": {
   "codemirror_mode": {
    "name": "ipython",
    "version": 3
   },
   "file_extension": ".py",
   "mimetype": "text/x-python",
   "name": "python",
   "nbconvert_exporter": "python",
   "pygments_lexer": "ipython3",
   "version": "3.10.12"
  }
 },
 "nbformat": 4,
 "nbformat_minor": 5
}
