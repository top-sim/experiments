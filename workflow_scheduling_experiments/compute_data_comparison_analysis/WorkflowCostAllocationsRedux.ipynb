{
 "cells": [
  {
   "cell_type": "code",
   "execution_count": 1,
   "id": "76ee5b2f-714e-4c46-a0dc-9316156efe60",
   "metadata": {
    "tags": []
   },
   "outputs": [
    {
     "name": "stdout",
     "output_type": "stream",
     "text": [
      "/home/rwb/Dropbox/University/PhD/experiment_data/chapter3/results_with_metadata\n"
     ]
    }
   ],
   "source": [
    "import sys\n",
    "sys.path.append('/home/rwb/github/skaworkflows')\n",
    "import os\n",
    "import logging\n",
    "import json\n",
    "\n",
    "from pathlib import Path\n",
    "import seaborn as sns\n",
    "\n",
    "logging.basicConfig(level='INFO')\n",
    "LOGGER = logging.getLogger(__name__)\n",
    "%pwd \n",
    "%cd /home/rwb/Dropbox/University/PhD/experiment_data/chapter3/results_with_metadata\n"
   ]
  },
  {
   "cell_type": "code",
   "execution_count": 5,
   "id": "641d7b92-3717-4f04-ac4e-8598e8c23072",
   "metadata": {
    "tags": []
   },
   "outputs": [
    {
     "name": "stdout",
     "output_type": "stream",
     "text": [
      "skaworkflows_2024-04-27_15:09:08  skaworkflows_2024-04-27_17:55:04\n",
      "skaworkflows_2024-04-27_15:30:13  skaworkflows_2024-04-27_18:15:41\n",
      "skaworkflows_2024-04-27_15:50:58  skaworkflows_2024-04-27_18:36:22\n",
      "skaworkflows_2024-04-27_16:11:41  skaworkflows_2024-04-27_18:58:46\n",
      "skaworkflows_2024-04-27_16:32:20  skaworkflows_2024-04-27_21:14:39\n",
      "skaworkflows_2024-04-27_16:52:58  skaworkflows_2024-04-27_22:12:12\n",
      "skaworkflows_2024-04-27_17:13:41  \u001b[0m\u001b[01;34mworkflows\u001b[0m/\n",
      "skaworkflows_2024-04-27_17:34:21\n"
     ]
    }
   ],
   "source": [
    "%ls low_maximal/prototype"
   ]
  },
  {
   "cell_type": "code",
   "execution_count": null,
   "id": "1fb94a2d",
   "metadata": {},
   "outputs": [],
   "source": []
  },
  {
   "cell_type": "code",
   "execution_count": 19,
   "id": "ee3b4fcd-b16a-416f-aaae-8db903179e81",
   "metadata": {
    "tags": []
   },
   "outputs": [
    {
     "data": {
      "text/html": [
       "<div>\n",
       "<style scoped>\n",
       "    .dataframe tbody tr th:only-of-type {\n",
       "        vertical-align: middle;\n",
       "    }\n",
       "\n",
       "    .dataframe tbody tr th {\n",
       "        vertical-align: top;\n",
       "    }\n",
       "\n",
       "    .dataframe thead th {\n",
       "        text-align: right;\n",
       "    }\n",
       "</style>\n",
       "<table border=\"1\" class=\"dataframe\">\n",
       "  <thead>\n",
       "    <tr style=\"text-align: right;\">\n",
       "      <th></th>\n",
       "      <th>workflow_type</th>\n",
       "      <th>product</th>\n",
       "      <th>total_compute</th>\n",
       "      <th>fraction_compute_cost</th>\n",
       "      <th>num_tasks</th>\n",
       "      <th>total_data</th>\n",
       "      <th>fraction_data_cost</th>\n",
       "    </tr>\n",
       "  </thead>\n",
       "  <tbody>\n",
       "    <tr>\n",
       "      <th>0</th>\n",
       "      <td>ICAL</td>\n",
       "      <td>UpdateGSM</td>\n",
       "      <td>0.000000</td>\n",
       "      <td>0.000000</td>\n",
       "      <td>896</td>\n",
       "      <td>0.000000</td>\n",
       "      <td>0.000000</td>\n",
       "    </tr>\n",
       "    <tr>\n",
       "      <th>1</th>\n",
       "      <td>ICAL</td>\n",
       "      <td>Solve</td>\n",
       "      <td>0.104714</td>\n",
       "      <td>0.000117</td>\n",
       "      <td>896</td>\n",
       "      <td>2554.438421</td>\n",
       "      <td>2.850936</td>\n",
       "    </tr>\n",
       "    <tr>\n",
       "      <th>2</th>\n",
       "      <td>ICAL</td>\n",
       "      <td>Grid</td>\n",
       "      <td>0.198137</td>\n",
       "      <td>0.000111</td>\n",
       "      <td>1792</td>\n",
       "      <td>290651.338851</td>\n",
       "      <td>162.193827</td>\n",
       "    </tr>\n",
       "    <tr>\n",
       "      <th>3</th>\n",
       "      <td>ICAL</td>\n",
       "      <td>Degrid</td>\n",
       "      <td>0.197746</td>\n",
       "      <td>0.000110</td>\n",
       "      <td>1792</td>\n",
       "      <td>285203.395549</td>\n",
       "      <td>159.153681</td>\n",
       "    </tr>\n",
       "    <tr>\n",
       "      <th>4</th>\n",
       "      <td>ICAL</td>\n",
       "      <td>Flag</td>\n",
       "      <td>0.051314</td>\n",
       "      <td>0.000019</td>\n",
       "      <td>2688</td>\n",
       "      <td>2554.438421</td>\n",
       "      <td>0.950312</td>\n",
       "    </tr>\n",
       "    <tr>\n",
       "      <th>...</th>\n",
       "      <td>...</td>\n",
       "      <td>...</td>\n",
       "      <td>...</td>\n",
       "      <td>...</td>\n",
       "      <td>...</td>\n",
       "      <td>...</td>\n",
       "      <td>...</td>\n",
       "    </tr>\n",
       "    <tr>\n",
       "      <th>85</th>\n",
       "      <td>DPrepD</td>\n",
       "      <td>Predict</td>\n",
       "      <td>0.000000</td>\n",
       "      <td>0.000000</td>\n",
       "      <td>1792</td>\n",
       "      <td>0.000000</td>\n",
       "      <td>0.000000</td>\n",
       "    </tr>\n",
       "    <tr>\n",
       "      <th>86</th>\n",
       "      <td>DPrepD</td>\n",
       "      <td>Correct</td>\n",
       "      <td>0.233020</td>\n",
       "      <td>0.000260</td>\n",
       "      <td>896</td>\n",
       "      <td>2758.289655</td>\n",
       "      <td>3.078448</td>\n",
       "    </tr>\n",
       "    <tr>\n",
       "      <th>87</th>\n",
       "      <td>DPrepD</td>\n",
       "      <td>Image Spectral Fitting</td>\n",
       "      <td>0.000000</td>\n",
       "      <td>0.000000</td>\n",
       "      <td>896</td>\n",
       "      <td>0.000000</td>\n",
       "      <td>0.000000</td>\n",
       "    </tr>\n",
       "    <tr>\n",
       "      <th>88</th>\n",
       "      <td>DPrepD</td>\n",
       "      <td>Gather</td>\n",
       "      <td>0.000000</td>\n",
       "      <td>0.000000</td>\n",
       "      <td>1</td>\n",
       "      <td>0.000000</td>\n",
       "      <td>0.000000</td>\n",
       "    </tr>\n",
       "    <tr>\n",
       "      <th>89</th>\n",
       "      <td>DPrepD</td>\n",
       "      <td>FrequencySplit</td>\n",
       "      <td>0.000000</td>\n",
       "      <td>0.000000</td>\n",
       "      <td>1</td>\n",
       "      <td>0.000000</td>\n",
       "      <td>0.000000</td>\n",
       "    </tr>\n",
       "  </tbody>\n",
       "</table>\n",
       "<p>90 rows × 7 columns</p>\n",
       "</div>"
      ],
      "text/plain": [
       "   workflow_type                 product  total_compute  \\\n",
       "0           ICAL               UpdateGSM       0.000000   \n",
       "1           ICAL                   Solve       0.104714   \n",
       "2           ICAL                    Grid       0.198137   \n",
       "3           ICAL                  Degrid       0.197746   \n",
       "4           ICAL                    Flag       0.051314   \n",
       "..           ...                     ...            ...   \n",
       "85        DPrepD                 Predict       0.000000   \n",
       "86        DPrepD                 Correct       0.233020   \n",
       "87        DPrepD  Image Spectral Fitting       0.000000   \n",
       "88        DPrepD                  Gather       0.000000   \n",
       "89        DPrepD          FrequencySplit       0.000000   \n",
       "\n",
       "    fraction_compute_cost  num_tasks     total_data  fraction_data_cost  \n",
       "0                0.000000        896       0.000000            0.000000  \n",
       "1                0.000117        896    2554.438421            2.850936  \n",
       "2                0.000111       1792  290651.338851          162.193827  \n",
       "3                0.000110       1792  285203.395549          159.153681  \n",
       "4                0.000019       2688    2554.438421            0.950312  \n",
       "..                    ...        ...            ...                 ...  \n",
       "85               0.000000       1792       0.000000            0.000000  \n",
       "86               0.000260        896    2758.289655            3.078448  \n",
       "87               0.000000        896       0.000000            0.000000  \n",
       "88               0.000000          1       0.000000            0.000000  \n",
       "89               0.000000          1       0.000000            0.000000  \n",
       "\n",
       "[90 rows x 7 columns]"
      ]
     },
     "execution_count": 19,
     "metadata": {},
     "output_type": "execute_result"
    }
   ],
   "source": [
    "import pandas as pd\n",
    "with open('low_maximal/prototype/skaworkflows_2024-04-27_15:09:08') as fp: \n",
    "    cfg_json = json.load(fp)\n",
    "    \n",
    "wf_files = []\n",
    "for p, wf in cfg_json['instrument']['telescope']['pipelines'].items():\n",
    "    wf_files.append(wf['workflow'])\n",
    "wf_files\n",
    "df = pd.read_csv(f\"low_maximal/prototype/{wf_files[0]}.csv\")"
   ]
  },
  {
   "cell_type": "code",
   "execution_count": 22,
   "id": "37a0d1ca-c18c-4045-b28d-5cba3ab290e8",
   "metadata": {
    "tags": []
   },
   "outputs": [
    {
     "data": {
      "text/plain": [
       "{'flops': 10726000000000.0,\n",
       " 'compute_bandwidth': 7530482700,\n",
       " 'memory': 320000000000}"
      ]
     },
     "execution_count": 22,
     "metadata": {},
     "output_type": "execute_result"
    }
   ],
   "source": [
    "cfg_json['cluster']['system']['resources'].popitem()[1]"
   ]
  },
  {
   "cell_type": "code",
   "execution_count": null,
   "id": "b35946a4-19f8-453e-9363-b66f584b12dc",
   "metadata": {},
   "outputs": [],
   "source": [
    "df['time_comp']=df['fraction_compute_cost'] / "
   ]
  }
 ],
 "metadata": {
  "kernelspec": {
   "display_name": "Python 3 (ipykernel)",
   "language": "python",
   "name": "python3"
  },
  "language_info": {
   "codemirror_mode": {
    "name": "ipython",
    "version": 3
   },
   "file_extension": ".py",
   "mimetype": "text/x-python",
   "name": "python",
   "nbconvert_exporter": "python",
   "pygments_lexer": "ipython3",
   "version": "3.12.3"
  }
 },
 "nbformat": 4,
 "nbformat_minor": 5
}
