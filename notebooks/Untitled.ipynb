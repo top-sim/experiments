{
 "cells": [
  {
   "cell_type": "code",
   "execution_count": 4,
   "id": "aa914b23",
   "metadata": {},
   "outputs": [],
   "source": [
    "import json\n",
    "from pathlib import Path\n",
    "\n",
    "sim_config = Path('../skaworkflows_tests/config.json')\n",
    "workflow_config = sim_config.parent / 'workflows/hpso01_time-3600_channels-256_tel-512.json'"
   ]
  },
  {
   "cell_type": "code",
   "execution_count": 5,
   "id": "8fc0d956",
   "metadata": {},
   "outputs": [],
   "source": [
    "with open(workflow_config, 'r') as fp:\n",
    "    wf = json.load(fp)"
   ]
  },
  {
   "cell_type": "code",
   "execution_count": 37,
   "id": "c031b3f2",
   "metadata": {},
   "outputs": [
    {
     "data": {
      "text/plain": [
       "{'Grid': {'comp': 1283457774493865.0, 'count': 256},\n",
       " 'Degrid': {'comp': 1282499060196712.5, 'count': 256},\n",
       " 'Flag': {'comp': 122497169790663.98, 'count': 512},\n",
       " 'Subtract Image Component': {'comp': 288499217187.5, 'count': 256},\n",
       " 'FFT': {'comp': 358982813815461.56, 'count': 256},\n",
       " 'Identify Component': {'comp': 147141496909.27484, 'count': 256},\n",
       " 'Subtract': {'comp': 878115912477.1874, 'count': 512},\n",
       " 'UpdateLSM': {'comp': 6940531957258.125, 'count': 256},\n",
       " 'Reprojection Predict': {'comp': 3470265978629.0625, 'count': 256},\n",
       " 'Correct': {'comp': 842991275978765.1, 'count': 256}}"
      ]
     },
     "execution_count": 37,
     "metadata": {},
     "output_type": "execute_result"
    }
   ],
   "source": [
    "tasks = wf['graph']['nodes'] \n",
    "\n",
    "task_comp = {}\n",
    "for t in tasks: \n",
    "    tid = t['id'].split('_')[1]\n",
    "    comp = t['comp']\n",
    "    if comp > 0:\n",
    "        if tid not in task_comp:\n",
    "            task_comp[tid] = {'comp':comp, 'count':1}\n",
    "        else:\n",
    "#             task_comp[tid]['comp'] = comp\n",
    "            task_comp[tid]['count'] +=1\n",
    "task_comp"
   ]
  },
  {
   "cell_type": "code",
   "execution_count": 34,
   "id": "c9d76bdb",
   "metadata": {},
   "outputs": [
    {
     "name": "stdout",
     "output_type": "stream",
     "text": [
      "20.700931846675243 seconds\n",
      "88.3239758791477 minutes\n",
      "20.685468712850202 seconds\n",
      "88.2579998414942 minutes\n",
      "1.9757608030752256 seconds\n",
      "8.42991275978763 minutes\n",
      "0.004653213180443549 seconds\n",
      "0.019853709569892474 minutes\n",
      "5.790045384120348 seconds\n",
      "24.704193638913484 minutes\n",
      "0.002373249950149594 seconds\n",
      "0.0101258664539716 minutes\n",
      "0.014163159878664313 seconds\n",
      "0.060429482148967734 minutes\n",
      "0.11194406382674395 seconds\n",
      "0.4776280056607742 minutes\n",
      "0.055972031913371974 seconds\n",
      "0.2388140028303871 minutes\n",
      "13.59663348352847 seconds\n",
      "58.012302863054806 minutes\n"
     ]
    }
   ],
   "source": [
    "generic_node = {\n",
    "    \"flops\": 62000000000000,\n",
    "    \"rates\": 7000000000.0,\n",
    "    \"memory\": 320000000000\n",
    "}\n",
    "for t in task_comp:\n",
    "#     print(f\"{task_comp[t]/generic_node['flops']} seconds\")\n",
    "    print(f\"{task_comp[t]/generic_node['flops']*256} minutes\")"
   ]
  }
 ],
 "metadata": {
  "kernelspec": {
   "display_name": "Python 3 (ipykernel)",
   "language": "python",
   "name": "python3"
  },
  "language_info": {
   "codemirror_mode": {
    "name": "ipython",
    "version": 3
   },
   "file_extension": ".py",
   "mimetype": "text/x-python",
   "name": "python",
   "nbconvert_exporter": "python",
   "pygments_lexer": "ipython3",
   "version": "3.8.10"
  }
 },
 "nbformat": 4,
 "nbformat_minor": 5
}
